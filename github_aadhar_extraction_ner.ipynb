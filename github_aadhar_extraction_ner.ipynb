{
  "nbformat": 4,
  "nbformat_minor": 0,
  "metadata": {
    "colab": {
      "name": "github_aadhar_extraction_ner.ipynb",
      "provenance": []
    },
    "kernelspec": {
      "name": "python3",
      "display_name": "Python 3"
    },
    "widgets": {
      "application/vnd.jupyter.widget-state+json": {
        "b2e8f96573be4f5ea804a1857fb36135": {
          "model_module": "@jupyter-widgets/controls",
          "model_name": "HBoxModel",
          "state": {
            "_view_name": "HBoxView",
            "_dom_classes": [],
            "_model_name": "HBoxModel",
            "_view_module": "@jupyter-widgets/controls",
            "_model_module_version": "1.5.0",
            "_view_count": null,
            "_view_module_version": "1.5.0",
            "box_style": "",
            "layout": "IPY_MODEL_5e2ca9ba750849638d024d6c93c2d988",
            "_model_module": "@jupyter-widgets/controls",
            "children": [
              "IPY_MODEL_466d32fc38974180ad25d57e1664970d",
              "IPY_MODEL_6c0a0b965f904b83a82e782eeb4910e3"
            ]
          }
        },
        "5e2ca9ba750849638d024d6c93c2d988": {
          "model_module": "@jupyter-widgets/base",
          "model_name": "LayoutModel",
          "state": {
            "_view_name": "LayoutView",
            "grid_template_rows": null,
            "right": null,
            "justify_content": null,
            "_view_module": "@jupyter-widgets/base",
            "overflow": null,
            "_model_module_version": "1.2.0",
            "_view_count": null,
            "flex_flow": null,
            "width": null,
            "min_width": null,
            "border": null,
            "align_items": null,
            "bottom": null,
            "_model_module": "@jupyter-widgets/base",
            "top": null,
            "grid_column": null,
            "overflow_y": null,
            "overflow_x": null,
            "grid_auto_flow": null,
            "grid_area": null,
            "grid_template_columns": null,
            "flex": null,
            "_model_name": "LayoutModel",
            "justify_items": null,
            "grid_row": null,
            "max_height": null,
            "align_content": null,
            "visibility": null,
            "align_self": null,
            "height": null,
            "min_height": null,
            "padding": null,
            "grid_auto_rows": null,
            "grid_gap": null,
            "max_width": null,
            "order": null,
            "_view_module_version": "1.2.0",
            "grid_template_areas": null,
            "object_position": null,
            "object_fit": null,
            "grid_auto_columns": null,
            "margin": null,
            "display": null,
            "left": null
          }
        },
        "466d32fc38974180ad25d57e1664970d": {
          "model_module": "@jupyter-widgets/controls",
          "model_name": "FloatProgressModel",
          "state": {
            "_view_name": "ProgressView",
            "style": "IPY_MODEL_4495103e2d114386a33959d1a590a492",
            "_dom_classes": [],
            "description": "100%",
            "_model_name": "FloatProgressModel",
            "bar_style": "success",
            "max": 49,
            "_view_module": "@jupyter-widgets/controls",
            "_model_module_version": "1.5.0",
            "value": 49,
            "_view_count": null,
            "_view_module_version": "1.5.0",
            "orientation": "horizontal",
            "min": 0,
            "description_tooltip": null,
            "_model_module": "@jupyter-widgets/controls",
            "layout": "IPY_MODEL_e094267bffff4447876f98a2d22abf1d"
          }
        },
        "6c0a0b965f904b83a82e782eeb4910e3": {
          "model_module": "@jupyter-widgets/controls",
          "model_name": "HTMLModel",
          "state": {
            "_view_name": "HTMLView",
            "style": "IPY_MODEL_bef28c0f73054ef69049128e756cfb3f",
            "_dom_classes": [],
            "description": "",
            "_model_name": "HTMLModel",
            "placeholder": "​",
            "_view_module": "@jupyter-widgets/controls",
            "_model_module_version": "1.5.0",
            "value": " 49/49 [42:53&lt;00:00, 52.51s/it]",
            "_view_count": null,
            "_view_module_version": "1.5.0",
            "description_tooltip": null,
            "_model_module": "@jupyter-widgets/controls",
            "layout": "IPY_MODEL_84c8eceecbdf4cc48ee3bae93baec9ca"
          }
        },
        "4495103e2d114386a33959d1a590a492": {
          "model_module": "@jupyter-widgets/controls",
          "model_name": "ProgressStyleModel",
          "state": {
            "_view_name": "StyleView",
            "_model_name": "ProgressStyleModel",
            "description_width": "initial",
            "_view_module": "@jupyter-widgets/base",
            "_model_module_version": "1.5.0",
            "_view_count": null,
            "_view_module_version": "1.2.0",
            "bar_color": null,
            "_model_module": "@jupyter-widgets/controls"
          }
        },
        "e094267bffff4447876f98a2d22abf1d": {
          "model_module": "@jupyter-widgets/base",
          "model_name": "LayoutModel",
          "state": {
            "_view_name": "LayoutView",
            "grid_template_rows": null,
            "right": null,
            "justify_content": null,
            "_view_module": "@jupyter-widgets/base",
            "overflow": null,
            "_model_module_version": "1.2.0",
            "_view_count": null,
            "flex_flow": null,
            "width": null,
            "min_width": null,
            "border": null,
            "align_items": null,
            "bottom": null,
            "_model_module": "@jupyter-widgets/base",
            "top": null,
            "grid_column": null,
            "overflow_y": null,
            "overflow_x": null,
            "grid_auto_flow": null,
            "grid_area": null,
            "grid_template_columns": null,
            "flex": null,
            "_model_name": "LayoutModel",
            "justify_items": null,
            "grid_row": null,
            "max_height": null,
            "align_content": null,
            "visibility": null,
            "align_self": null,
            "height": null,
            "min_height": null,
            "padding": null,
            "grid_auto_rows": null,
            "grid_gap": null,
            "max_width": null,
            "order": null,
            "_view_module_version": "1.2.0",
            "grid_template_areas": null,
            "object_position": null,
            "object_fit": null,
            "grid_auto_columns": null,
            "margin": null,
            "display": null,
            "left": null
          }
        },
        "bef28c0f73054ef69049128e756cfb3f": {
          "model_module": "@jupyter-widgets/controls",
          "model_name": "DescriptionStyleModel",
          "state": {
            "_view_name": "StyleView",
            "_model_name": "DescriptionStyleModel",
            "description_width": "",
            "_view_module": "@jupyter-widgets/base",
            "_model_module_version": "1.5.0",
            "_view_count": null,
            "_view_module_version": "1.2.0",
            "_model_module": "@jupyter-widgets/controls"
          }
        },
        "84c8eceecbdf4cc48ee3bae93baec9ca": {
          "model_module": "@jupyter-widgets/base",
          "model_name": "LayoutModel",
          "state": {
            "_view_name": "LayoutView",
            "grid_template_rows": null,
            "right": null,
            "justify_content": null,
            "_view_module": "@jupyter-widgets/base",
            "overflow": null,
            "_model_module_version": "1.2.0",
            "_view_count": null,
            "flex_flow": null,
            "width": null,
            "min_width": null,
            "border": null,
            "align_items": null,
            "bottom": null,
            "_model_module": "@jupyter-widgets/base",
            "top": null,
            "grid_column": null,
            "overflow_y": null,
            "overflow_x": null,
            "grid_auto_flow": null,
            "grid_area": null,
            "grid_template_columns": null,
            "flex": null,
            "_model_name": "LayoutModel",
            "justify_items": null,
            "grid_row": null,
            "max_height": null,
            "align_content": null,
            "visibility": null,
            "align_self": null,
            "height": null,
            "min_height": null,
            "padding": null,
            "grid_auto_rows": null,
            "grid_gap": null,
            "max_width": null,
            "order": null,
            "_view_module_version": "1.2.0",
            "grid_template_areas": null,
            "object_position": null,
            "object_fit": null,
            "grid_auto_columns": null,
            "margin": null,
            "display": null,
            "left": null
          }
        }
      }
    }
  },
  "cells": [
    {
      "cell_type": "markdown",
      "metadata": {
        "id": "RRxZ1PLyenYw"
      },
      "source": [
        "Installing dependencies and packages"
      ]
    },
    {
      "cell_type": "code",
      "metadata": {
        "colab": {
          "base_uri": "https://localhost:8080/",
          "height": 36
        },
        "id": "KXRlQJgMxV-H",
        "outputId": "ba8ed4fe-d1a6-4a7a-ccf8-d7f67b2580bc"
      },
      "source": [
        "import os\n",
        "os.chdir('/content/drive/MyDrive/projects_assignment/aadhar_card_retrival')\n",
        "os.getcwd()"
      ],
      "execution_count": null,
      "outputs": [
        {
          "output_type": "execute_result",
          "data": {
            "application/vnd.google.colaboratory.intrinsic+json": {
              "type": "string"
            },
            "text/plain": [
              "'/content/drive/MyDrive/projects_assignment/aadhar_card_retrival'"
            ]
          },
          "metadata": {
            "tags": []
          },
          "execution_count": 1
        }
      ]
    },
    {
      "cell_type": "code",
      "metadata": {
        "colab": {
          "base_uri": "https://localhost:8080/"
        },
        "id": "H2EKUlzoW-e5",
        "outputId": "47e7ac06-ff90-4e99-a8d8-942231bb7f32"
      },
      "source": [
        "!sudo apt install tesseract-ocr\n",
        "!pip install pytesseract"
      ],
      "execution_count": null,
      "outputs": [
        {
          "output_type": "stream",
          "text": [
            "Reading package lists... Done\n",
            "Building dependency tree       \n",
            "Reading state information... Done\n",
            "The following additional packages will be installed:\n",
            "  tesseract-ocr-eng tesseract-ocr-osd\n",
            "The following NEW packages will be installed:\n",
            "  tesseract-ocr tesseract-ocr-eng tesseract-ocr-osd\n",
            "0 upgraded, 3 newly installed, 0 to remove and 29 not upgraded.\n",
            "Need to get 4,795 kB of archives.\n",
            "After this operation, 15.8 MB of additional disk space will be used.\n",
            "Get:1 http://archive.ubuntu.com/ubuntu bionic/universe amd64 tesseract-ocr-eng all 4.00~git24-0e00fe6-1.2 [1,588 kB]\n",
            "Get:2 http://archive.ubuntu.com/ubuntu bionic/universe amd64 tesseract-ocr-osd all 4.00~git24-0e00fe6-1.2 [2,989 kB]\n",
            "Get:3 http://archive.ubuntu.com/ubuntu bionic/universe amd64 tesseract-ocr amd64 4.00~git2288-10f4998a-2 [218 kB]\n",
            "Fetched 4,795 kB in 1s (8,316 kB/s)\n",
            "debconf: unable to initialize frontend: Dialog\n",
            "debconf: (No usable dialog-like program is installed, so the dialog based frontend cannot be used. at /usr/share/perl5/Debconf/FrontEnd/Dialog.pm line 76, <> line 3.)\n",
            "debconf: falling back to frontend: Readline\n",
            "debconf: unable to initialize frontend: Readline\n",
            "debconf: (This frontend requires a controlling tty.)\n",
            "debconf: falling back to frontend: Teletype\n",
            "dpkg-preconfigure: unable to re-open stdin: \n",
            "Selecting previously unselected package tesseract-ocr-eng.\n",
            "(Reading database ... 160975 files and directories currently installed.)\n",
            "Preparing to unpack .../tesseract-ocr-eng_4.00~git24-0e00fe6-1.2_all.deb ...\n",
            "Unpacking tesseract-ocr-eng (4.00~git24-0e00fe6-1.2) ...\n",
            "Selecting previously unselected package tesseract-ocr-osd.\n",
            "Preparing to unpack .../tesseract-ocr-osd_4.00~git24-0e00fe6-1.2_all.deb ...\n",
            "Unpacking tesseract-ocr-osd (4.00~git24-0e00fe6-1.2) ...\n",
            "Selecting previously unselected package tesseract-ocr.\n",
            "Preparing to unpack .../tesseract-ocr_4.00~git2288-10f4998a-2_amd64.deb ...\n",
            "Unpacking tesseract-ocr (4.00~git2288-10f4998a-2) ...\n",
            "Setting up tesseract-ocr-osd (4.00~git24-0e00fe6-1.2) ...\n",
            "Setting up tesseract-ocr-eng (4.00~git24-0e00fe6-1.2) ...\n",
            "Setting up tesseract-ocr (4.00~git2288-10f4998a-2) ...\n",
            "Processing triggers for man-db (2.8.3-2ubuntu0.1) ...\n",
            "Collecting pytesseract\n",
            "  Downloading https://files.pythonhosted.org/packages/a0/e6/a4e9fc8a93c1318540e8de6d8d4beb5749b7960388a7c7f27799fc2dd016/pytesseract-0.3.7.tar.gz\n",
            "Requirement already satisfied: Pillow in /usr/local/lib/python3.7/dist-packages (from pytesseract) (7.0.0)\n",
            "Building wheels for collected packages: pytesseract\n",
            "  Building wheel for pytesseract (setup.py) ... \u001b[?25l\u001b[?25hdone\n",
            "  Created wheel for pytesseract: filename=pytesseract-0.3.7-py2.py3-none-any.whl size=13945 sha256=14d5d3196b754282d6599da8dd06b99ff6cd79787ec51e95baaf03b9a070c01b\n",
            "  Stored in directory: /root/.cache/pip/wheels/81/20/7e/1dd0daad1575d5260916bb1e9781246430647adaef4b3ca3b3\n",
            "Successfully built pytesseract\n",
            "Installing collected packages: pytesseract\n",
            "Successfully installed pytesseract-0.3.7\n"
          ],
          "name": "stdout"
        }
      ]
    },
    {
      "cell_type": "code",
      "metadata": {
        "colab": {
          "base_uri": "https://localhost:8080/"
        },
        "id": "xVE1xW1snTrl",
        "outputId": "e0ce4a62-a3a1-48b8-f0bd-3cfaab723aa0"
      },
      "source": [
        "!pip install Image"
      ],
      "execution_count": null,
      "outputs": [
        {
          "output_type": "stream",
          "text": [
            "Requirement already satisfied: Image in /usr/local/lib/python3.7/dist-packages (1.5.33)\n",
            "Requirement already satisfied: pillow in /usr/local/lib/python3.7/dist-packages (from Image) (7.0.0)\n",
            "Requirement already satisfied: six in /usr/local/lib/python3.7/dist-packages (from Image) (1.15.0)\n",
            "Requirement already satisfied: django in /usr/local/lib/python3.7/dist-packages (from Image) (3.1.7)\n",
            "Requirement already satisfied: pytz in /usr/local/lib/python3.7/dist-packages (from django->Image) (2018.9)\n",
            "Requirement already satisfied: sqlparse>=0.2.2 in /usr/local/lib/python3.7/dist-packages (from django->Image) (0.4.1)\n",
            "Requirement already satisfied: asgiref<4,>=3.2.10 in /usr/local/lib/python3.7/dist-packages (from django->Image) (3.3.1)\n"
          ],
          "name": "stdout"
        }
      ]
    },
    {
      "cell_type": "code",
      "metadata": {
        "colab": {
          "base_uri": "https://localhost:8080/"
        },
        "id": "AuNcoqwPneAj",
        "outputId": "98190003-b19c-4d39-f091-b878d2e578cd"
      },
      "source": [
        "!pip install PIL"
      ],
      "execution_count": null,
      "outputs": [
        {
          "output_type": "stream",
          "text": [
            "\u001b[31mERROR: Could not find a version that satisfies the requirement PIL (from versions: none)\u001b[0m\n",
            "\u001b[31mERROR: No matching distribution found for PIL\u001b[0m\n"
          ],
          "name": "stdout"
        }
      ]
    },
    {
      "cell_type": "code",
      "metadata": {
        "id": "vN1rUyarYM8j"
      },
      "source": [
        "import pytesseract\n",
        "from PIL import Image\n",
        "import urllib.request\n",
        "import pandas as pd\n",
        "import pickle\n",
        "from tqdm import tqdm_notebook as tqdm\n",
        "import spacy"
      ],
      "execution_count": null,
      "outputs": []
    },
    {
      "cell_type": "markdown",
      "metadata": {
        "id": "dUrty0Dkxqwi"
      },
      "source": [
        "### Data Preparation for the Annotation\n",
        "We'll take each Aadhar image pass it through the Tesseract and get the text from image.<br>\n",
        "We'll put all text in a .txt file as our annotator accepts this format only. Each line in .txt file represents one Aadhar image<br>\n",
        "<b>You can explore annotation software from here</b><br>\n",
        "https://github.com/rumankhan1/ner-annotator"
      ]
    },
    {
      "cell_type": "code",
      "metadata": {
        "id": "YkvooSnybbr_"
      },
      "source": [
        "def get_text_data(path_to_img):\n",
        "\n",
        "  '''\n",
        "  This method takes image file path then given to the tesseract to apply ocr and get the text(string)\n",
        "  '''\n",
        "\n",
        "  try:\n",
        "    #now we'll get the text from image through tesserac\n",
        "    return pytesseract.image_to_string(Image.open(path_to_img))\n",
        "  except:\n",
        "    return ' '\n"
      ],
      "execution_count": null,
      "outputs": []
    },
    {
      "cell_type": "code",
      "metadata": {
        "id": "Zf5mUhHtcYdD"
      },
      "source": [
        "print(get_text_data('aadhar_images_to_train_model/59b6f819e3c398379524acd67662618e.jpg'))"
      ],
      "execution_count": null,
      "outputs": []
    },
    {
      "cell_type": "code",
      "metadata": {
        "colab": {
          "base_uri": "https://localhost:8080/"
        },
        "id": "xv-ARHodcT58",
        "outputId": "cb13dd97-778e-41a6-c6ea-eb8b08f52fef"
      },
      "source": [
        "os.listdir()"
      ],
      "execution_count": null,
      "outputs": [
        {
          "output_type": "execute_result",
          "data": {
            "text/plain": [
              "['info.ipynb', 'aadhar_images_to_train_model']"
            ]
          },
          "metadata": {
            "tags": []
          },
          "execution_count": 10
        }
      ]
    },
    {
      "cell_type": "code",
      "metadata": {
        "colab": {
          "base_uri": "https://localhost:8080/",
          "height": 118,
          "referenced_widgets": [
            "b2e8f96573be4f5ea804a1857fb36135",
            "5e2ca9ba750849638d024d6c93c2d988",
            "466d32fc38974180ad25d57e1664970d",
            "6c0a0b965f904b83a82e782eeb4910e3",
            "4495103e2d114386a33959d1a590a492",
            "e094267bffff4447876f98a2d22abf1d",
            "bef28c0f73054ef69049128e756cfb3f",
            "84c8eceecbdf4cc48ee3bae93baec9ca"
          ]
        },
        "id": "tI_QRjgabDBo",
        "outputId": "f56d16d5-6514-49e4-e166-f424ad5bb3ea"
      },
      "source": [
        "#first get all the images present in the directory\n",
        "all_aadhar_files = os.listdir('aadhar_images_to_train_model')\n",
        "\n",
        "# This code will create a .txt file and write every string from the Aadhar image into new line\n",
        "with open('aadhar_train_50.txt','w') as out:\n",
        "  one_line_str = ''\n",
        "  for file_path in tqdm(all_aadhar_files):\n",
        "    #looping through each aadhar image path and getting text out of that\n",
        "    file_path = 'aadhar_images_to_train_model/'+file_path\n",
        "    temp_str = ' '.join(get_text_data(file_path).split('\\n'))\n",
        "    one_line_str+= temp_str + '\\n'\n",
        "  out.write(one_line_str)"
      ],
      "execution_count": null,
      "outputs": [
        {
          "output_type": "stream",
          "text": [
            "/usr/local/lib/python3.7/dist-packages/ipykernel_launcher.py:7: TqdmDeprecationWarning: This function will be removed in tqdm==5.0.0\n",
            "Please use `tqdm.notebook.tqdm` instead of `tqdm.tqdm_notebook`\n",
            "  import sys\n"
          ],
          "name": "stderr"
        },
        {
          "output_type": "display_data",
          "data": {
            "application/vnd.jupyter.widget-view+json": {
              "model_id": "b2e8f96573be4f5ea804a1857fb36135",
              "version_minor": 0,
              "version_major": 2
            },
            "text/plain": [
              "HBox(children=(FloatProgress(value=0.0, max=49.0), HTML(value='')))"
            ]
          },
          "metadata": {
            "tags": []
          }
        },
        {
          "output_type": "stream",
          "text": [
            "\n"
          ],
          "name": "stdout"
        }
      ]
    },
    {
      "cell_type": "markdown",
      "metadata": {
        "id": "DZ9Lfaxyezl7"
      },
      "source": [
        "### Performing NER Annotation\n",
        "Head to this https://github.com/rumankhan1/ner-annotator software and perform the annotation <br>\n",
        "At the end we'll have training_data.json for training the spacy"
      ]
    },
    {
      "cell_type": "code",
      "metadata": {
        "colab": {
          "base_uri": "https://localhost:8080/"
        },
        "id": "xt29NjEaoLG3",
        "outputId": "64c62d5b-1945-4326-d90a-9879c728876e"
      },
      "source": [
        "os.listdir()"
      ],
      "execution_count": null,
      "outputs": [
        {
          "output_type": "execute_result",
          "data": {
            "text/plain": [
              "['info.ipynb',\n",
              " 'aadhar_images_to_train_model',\n",
              " 'aadhar_train_50.txt',\n",
              " 'training_data.json']"
            ]
          },
          "metadata": {
            "tags": []
          },
          "execution_count": 21
        }
      ]
    },
    {
      "cell_type": "markdown",
      "metadata": {
        "id": "VIDL-6FeoTZl"
      },
      "source": [
        "### Training Spacy on custom data\n",
        "In involves multiple step, Let's walk throught that"
      ]
    },
    {
      "cell_type": "code",
      "metadata": {
        "id": "z8mOLhqAvHi8"
      },
      "source": [
        "#importing relevant packages \n",
        "from __future__ import unicode_literals, print_function\n",
        "import plac\n",
        "import random\n",
        "from pathlib import Path\n",
        "import spacy\n",
        "import json"
      ],
      "execution_count": null,
      "outputs": []
    },
    {
      "cell_type": "markdown",
      "metadata": {
        "id": "ogGAAfRLvnMC"
      },
      "source": [
        "#### Loading the cutom training data"
      ]
    },
    {
      "cell_type": "code",
      "metadata": {
        "colab": {
          "base_uri": "https://localhost:8080/"
        },
        "id": "QQnwboIlw6ic",
        "outputId": "861a16db-e177-4102-8044-1649d4c35f46"
      },
      "source": [
        "os.listdir()"
      ],
      "execution_count": null,
      "outputs": [
        {
          "output_type": "execute_result",
          "data": {
            "text/plain": [
              "['info.ipynb',\n",
              " 'aadhar_images_to_train_model',\n",
              " 'aadhar_train_50.txt',\n",
              " 'training_data.json']"
            ]
          },
          "metadata": {
            "tags": []
          },
          "execution_count": 32
        }
      ]
    },
    {
      "cell_type": "code",
      "metadata": {
        "colab": {
          "base_uri": "https://localhost:8080/"
        },
        "id": "ztE8FuxSvttH",
        "outputId": "5f82fad6-a47d-40f1-9410-1b93ae78ca6b"
      },
      "source": [
        "with open('training_data.json') as data_file:\n",
        "  data = data_file.read()\n",
        "  print(data) \n",
        "  data_content = json.loads(data)"
      ],
      "execution_count": null,
      "outputs": [
        {
          "output_type": "stream",
          "text": [
            "{\"classes\":[\"DOB\",\"NAME\",\"FATHER_NAME\",\"AADHAR_NUMBER\",\"GENDER\",\"ADDRESS\",\"MOBILE_NUMBER\",\"AADHAR_VID\"],\"annotations\":[[\"Shubham ‘ fefe/DOB : 05/03/1997 yew MALE Mobile No : 8800780509 4275 2080 8052 2a aren , 2X) vears\",{\"entities\":[[0,7,\"NAME\"],[20,30,\"DOB\"],[35,39,\"GENDER\"],[52,62,\"MOBILE_NUMBER\"],[67,81,\"AADHAR_NUMBER\"]]}],[\"mY are om: S10 2. ee, sp gx, arf, SUR Wee - 221208 Address: S/O B.K. Sharma, Narayan Pur, Varanasi, Uttar Pradesh - 22120! 7 2998 5205 ViD : 9190 2926 6600 1448.\",{\"entities\":[[82,144,\"ADDRESS\"]]}],[\"S Father ABDUL FATEH S54 AT Year of Birth : 1994 51/Femate 6216 2176 3960 SITS ~ SIRT STC orice\",{\"entities\":[[6,24,\"FATHER_NAME\"],[49,53,\"DOB\"],[69,83,\"AADHAR_NUMBER\"]]}],[\"geveujun Car Aishwarya G mS Men / DOB : 17/11/1999 Quetorumed / Female AMG - ETSMYOO WeAGelor gH\\\\emIyj wo\",{\"entities\":[[26,41,\"NAME\"],[54,64,\"DOB\"],[78,84,\"GENDER\"]]}],[\"Government of India Jaa aa ij Jain DOB : 02/01/1978\",{\"entities\":[]}],[\"8689 2565 8268 | - 30a ates ar aire _ er) Male 8689 2565 8268\",{\"entities\":[[0,14,\"AADHAR_NUMBER\"]]}],[\"= Puneet gem a / Year of Birth : 1988 yee / Male 8060 9098 4946\",{\"entities\":[[3,13,\"NAME\"],[34,38,\"DOB\"],[46,50,\"GENDER\"]]}],[\"PR Gecko ee ce eee See ee ee She ese ee ee Se ee we e6Qd GIA __ Naresh Das _ del: Qaeie Ia _ Father: Bhagaban Das @ @ GIA / DOB : 09/12/1997 gas / Male 9504 3999 3631 PMA — AMA CAVA ANAM\",{\"entities\":[[71,81,\"NAME\"],[100,121,\"FATHER_NAME\"],[137,151,\"DOB\"],[154,158,\"GENDER\"],[160,174,\"AADHAR_NUMBER\"]]}],[\"Alt HHI ABcoud earouds warcner Rohitbhai Rameshbhai Jayasval Bg. eRecud Rameshbhai Bolt io wis oes 01/03/2003 YBN / Male _ 9264 8094 1543 _ 2 = Aloe ULeLHed wAsi2\",{\"entities\":[[32,65,\"NAME\"],[74,84,\"FATHER_NAME\"],[101,111,\"DOB\"],[119,123,\"GENDER\"],[131,145,\"AADHAR_NUMBER\"]]}],[\"§ As Buc Sheth Himali% ore] aN / Year of Birth : 1987 wl / Female 8739 8404 0088 § WLLL — ALAloa sat a Qae\",{\"entities\":[[12,24,\"NAME\"],[52,56,\"DOB\"],[62,68,\"GENDER\"],[73,89,\"AADHAR_NUMBER\"]]}],[\"Government of India ferro ars © Nirmia Bai | sm fa) DOB - 05/07/1990) Afat/ Female\",{\"entities\":[[34,44,\"NAME\"],[60,70,\"DOB\"]]}],[\": Manoj Gupta area ad / Year of Birth 7a / Male 1990 5512 9932 1875\",{\"entities\":[[8,19,\"NAME\"],[51,55,\"GENDER\"],[68,72,\"DOB\"]]}],[\"aa / Name: Sid malhorta Harta / DOB : 28/05/2000 yea / Female\",{\"entities\":[[11,30,\"NAME\"],[38,52,\"DOB\"]]}],[\"8499 8239 6983 arene — earn ore APIA 7\",{\"entities\":[[5,19,\"AADHAR_NUMBER\"]]}],[\"avert Fee D) Gayatri Singh a ff / DOB: Female 2621 4644 2086\",{\"entities\":[[13,29,\"NAME\"]]}],[\"apie te Susanta Pal ‘Prot: reraTeran ort Father: SATYANARAYAN PAL) werert/D0B : 07/03/1984 TH/ Male 5205 6295 3713\",{\"entities\":[[8,26,\"NAME\"],[43,68,\"FATHER_NAME\"],[84,94,\"DOB\"]]}],[\"zg aa ACHR ‘SGovermentonindam=—— feerger Hor Dilkhush Meena 3H at) Yearof Birth : 1998 WET / Male 6321 8481 2058 - WA seat ar\",{\"entities\":[[46,60,\"NAME\"],[83,87,\"DOB\"],[95,99,\"GENDER\"],[101,115,\"AADHAR_NUMBER\"]]}],[\"fave gare Vimal Kumar aay fafa DOB : 12/12/1958 |\",{\"entities\":[[10,25,\"NAME\"],[36,46,\"DOB\"]]}],[\"iar “Gsvemmentofindia seen Fie Uttam Singh area fer / DOB : 02/10/2000 JET) Male Sani ia\",{\"entities\":[[32,49,\"NAME\"],[62,77,\"DOB\"],[79,83,\"GENDER\"]]}],[\"8499 8239 6983 arene — earn ore APIA 7\",{\"entities\":[[5,19,\"AADHAR_NUMBER\"]]}],[\"ore weer Government of India\",{\"entities\":[]}],[\"Sifter area art Preetika Moses Nath arr fafe/ DOB : 27/12/1988 . Meat / FEMALE 2879 9185 1180 AT aren, TA Tea 7\",{\"entities\":[[17,31,\"NAME\"],[53,65,\"DOB\"],[73,79,\"GENDER\"],[85,102,\"AADHAR_NUMBER\"]]}],[\"Devendra Singh ia fafa DOB : 01/01/1984 veo /MALE 7996 3003 9447 ao ware, TA gear mc\",{\"entities\":[[0,14,\"NAME\"],[28,38,\"DOB\"],[43,48,\"GENDER\"],[50,64,\"AADHAR_NUMBER\"]]}],[\"avfaeaz ite 44 HARVINDER SINGH SANDHU) far: aaare fate 4 Father: SATNAM SINGH SANDHU aH a / Year of Birth : 1966 [eT / Male\",{\"entities\":[[16,38,\"NAME\"],[60,89,\"FATHER_NAME\"],[114,118,\"DOB\"]]}],[\"2826 2992 0085 He Tyrer arreatt ar atten\",{\"entities\":[[4,18,\"AADHAR_NUMBER\"]]}],[\"after fig act Harinder Singh Negi wea THYOB:1969 Fs Male 5505 8787 4595\",{\"entities\":[[17,40,\"NAME\"],[56,60,\"GENDER\"]]}],[\"WT ARK (GOVERNMENT OF INDHA NIRUPMA PUSHKARNA We THYOB:1951 aftat Female 8716 0813 8875 C= amet attaatt ar arftrane\",{\"entities\":[[29,46,\"NAME\"],[50,60,\"DOB\"],[68,74,\"GENDER\"],[76,90,\"AADHAR_NUMBER\"]]}],[\"Authority ot india 5/0: Banshilal Meena, dandi fom, cit Ga , 6KKM, Satasar, Bikaner, Rajasthan - 334021 ra - 334021 9632 1594 6377\",{\"entities\":[[24,115,\"ADDRESS\"]]}],[\"BPS Dees 0 Government of india ee or 1) aa | 6268 4947 0423\",{\"entities\":[]}],[\"“Government of India === TTL HA Jabahar Kumar arm Fafe/ DOB : 01/01/1993 Yea / Male\",{\"entities\":[[34,52,\"NAME\"],[65,75,\"DOB\"]]}],[\"of rmib wrepsioy Sriram Mamundi Umss prer | DOB : 11/04/1992 9ysi7 | MALE 8416 1590 3267 - si sro wellsofler sp dlarru HTH\",{\"entities\":[[30,44,\"NAME\"],[64,74,\"DOB\"],[83,87,\"GENDER\"],[89,103,\"AADHAR_NUMBER\"]]}],[\"“Government of India === TTL HA Jabahar Kumar arm Fafe/ DOB : 01/01/1993 Yea / Male\",{\"entities\":[[34,47,\"NAME\"],[65,79,\"DOB\"]]}],[\"ST It MAM TST ATHTS Akesh Mahendra Sapkai wer artra/ DOB : 16/04/1995 qea /MALE 4421 9689 9245 |\",{\"entities\":[[46,67,\"NAME\"],[84,94,\"DOB\"],[99,104,\"GENDER\"],[106,120,\"AADHAR_NUMBER\"]]}],[\"Serena wiRrEeT UNIGUEIDENTIFICATIONAUTHORYPY OF ‘NDIA sf ame ‘Sandeep Kumar Address: ‘10 Rananie Singh, HNO. 181, ‘NEW BAST, NEAR HANUMAN, ‘a4 faf¥/ DOB : 15/06/1981 161, aa SHH NARELA Noro, Noth West MALE a a Dein 110040 ae areeqe steer, a, oer afer, faeefifeeett - 110040 8530 6049 4063 , 8530 6049 4063, fer arene , 3 eat MERA AADHAAR, MERI PEHACHAN\",{\"entities\":[[74,88,\"NAME\"],[99,151,\"ADDRESS\"],[174,184,\"DOB\"],[221,225,\"GENDER\"],[294,308,\"AADHAR_NUMBER\"],[310,325,\"AADHAR_NUMBER\"]]}],[\"( BepUl FERAL HCUNAT-aZensmus seri0iY FR. riquetenincctionunoty ot cia BST (sai): slo ssinqpaib, & . <16i0 227 Address: S/O Shanmugam, ae aa s NO 227, OTTAPPATTI, Sa OTTAPPATTI POST, bs - pochampalli, Mukkampatti, SELON AES BD Oddapatti, Krishnagiri, Tamil 25203 Nadu , 635203 9075 4366 4471 1800 500 1947 help @ uidai.gov.in SDUSZEGwMy ssiorupsid Sampathkumar Shanmugam shes; ceimapeid wnenhéeud ‘Sipf5euG Lv Year of Birth : 1989 aydmund 1» Male 9075 4366 4471 Seal semen usipales epee\",{\"entities\":[[123,279,\"ADDRESS\"],[281,295,\"AADHAR_NUMBER\"],[381,403,\"NAME\"],[459,463,\"DOB\"],[475,479,\"GENDER\"],[481,495,\"AADHAR_NUMBER\"]]}],[\"cation Au ly of India ~ Address : 3-106 A, HEJAMADI, UDUPI, Hejamadi, Hejmadi, Udupi, Karnataka , 574103 2.\",{\"entities\":[]}],[\"To Mehboob Basha Lopipyts umagrr S/O: Basha 17/7 KM NAGAR 4TH STREET it ee KH104084318FT 10408431 2MSET IH etesot / Your A 5128 3613 8946 j - onpmya weigaAir aif aa aa = wamy0 umagr Mehboob Basha Bibeng: uragn Father: Basha pb pnér DOB : 29/03/1979 agstounes » Male 5128 3613 8946 i - EMS MooN Woohlscoflewt ak\",{\"entities\":[[39,70,\"ADDRESS\"],[129,143,\"AADHAR_NUMBER\"],[191,204,\"NAME\"],[221,235,\"FATHER_NAME\"],[250,270,\"DOB\"],[279,293,\"AADHAR_NUMBER\"]]}],[\"Loeaflonpeén gminssp sign Manimaran Ramachandran (is per/DOB : 03/09/1967 an MALE 3515 0558 6323 & Vio : 9167 5726 9392 8332 TUT) YS , 6161S) Si6M_witred Ee olen Sth: rehab , 3256 6, mip pre ei os rit, Address: daly poniecherdean , 3/256 A, MAIN ROAD, Tamil Nadu - 614702 3515 0558 6323 Vio : 91675726 9397 8339 So a _\",{\"entities\":[[26,48,\"NAME\"],[62,72,\"DOB\"],[76,80,\"GENDER\"],[85,101,\"AADHAR_NUMBER\"],[109,128,\"AADHAR_VID\"],[223,283,\"ADDRESS\"],[285,299,\"AADHAR_NUMBER\"],[306,324,\"AADHAR_VID\"]]}]]}\n"
          ],
          "name": "stdout"
        }
      ]
    },
    {
      "cell_type": "code",
      "metadata": {
        "colab": {
          "base_uri": "https://localhost:8080/"
        },
        "id": "9K4L_xnsyFzu",
        "outputId": "f22462f3-853f-46e5-d7ba-54f15a23815e"
      },
      "source": [
        "# store all of annotated sample in a list which will be later used to train the Spacy\n",
        "\n",
        "print('total annotated smaple for the training : ', len(data_content.get('annotations')))\n",
        "training_data = data_content.get('annotations')"
      ],
      "execution_count": null,
      "outputs": [
        {
          "output_type": "stream",
          "text": [
            "total annotated smaple for the training :  38\n"
          ],
          "name": "stdout"
        }
      ]
    },
    {
      "cell_type": "markdown",
      "metadata": {
        "id": "GMJmEUOfIoyb"
      },
      "source": [
        "All the available entities"
      ]
    },
    {
      "cell_type": "code",
      "metadata": {
        "colab": {
          "base_uri": "https://localhost:8080/"
        },
        "id": "QyQyETKKIxax",
        "outputId": "7c8abf87-cf99-44d8-b772-32552f8151f0"
      },
      "source": [
        "data_content.get('classes')"
      ],
      "execution_count": null,
      "outputs": [
        {
          "output_type": "execute_result",
          "data": {
            "text/plain": [
              "['DOB',\n",
              " 'NAME',\n",
              " 'FATHER_NAME',\n",
              " 'AADHAR_NUMBER',\n",
              " 'GENDER',\n",
              " 'ADDRESS',\n",
              " 'MOBILE_NUMBER',\n",
              " 'AADHAR_VID']"
            ]
          },
          "metadata": {
            "tags": []
          },
          "execution_count": 82
        }
      ]
    },
    {
      "cell_type": "markdown",
      "metadata": {
        "id": "DlYzt3O7ziLD"
      },
      "source": [
        "Defining the variables required to train the model. <br>\n",
        "You can experiment with different Iterations ,dropout, etc"
      ]
    },
    {
      "cell_type": "code",
      "metadata": {
        "id": "LlzHnqQezghI"
      },
      "source": [
        "model = None\n",
        "output_dir = Path(os.getcwd())\n",
        "n_iter=250"
      ],
      "execution_count": null,
      "outputs": []
    },
    {
      "cell_type": "markdown",
      "metadata": {
        "id": "XFExHQAV0J--"
      },
      "source": [
        "To train a custom Spacy we'll have to do two things first:\n",
        "\n",
        "\n",
        "1.   Initialize a blank model\n",
        "2.   Setup pipeline with only NER usig create_pipe function\n",
        "\n"
      ]
    },
    {
      "cell_type": "code",
      "metadata": {
        "colab": {
          "base_uri": "https://localhost:8080/"
        },
        "id": "WzwEnNOYzgke",
        "outputId": "738cefa7-db3b-4ab1-c3c5-c141051667ed"
      },
      "source": [
        "#load the model\n",
        "if model is not None:\n",
        "    nlp = spacy.load(model)  \n",
        "    print(\"Loaded model '%s'\" % model)\n",
        "else:\n",
        "    nlp = spacy.blank('en')  \n",
        "    print(\"Created blank 'en' model\")\n",
        "\n",
        "#set up the pipeline\n",
        "if 'ner' not in nlp.pipe_names:\n",
        "    ner = nlp.create_pipe('ner')\n",
        "    nlp.add_pipe(ner, last=True)\n",
        "else:\n",
        "    ner = nlp.get_pipe('ner')"
      ],
      "execution_count": null,
      "outputs": [
        {
          "output_type": "stream",
          "text": [
            "Created blank 'en' model\n"
          ],
          "name": "stdout"
        }
      ]
    },
    {
      "cell_type": "code",
      "metadata": {
        "colab": {
          "base_uri": "https://localhost:8080/"
        },
        "id": "K4Tt3gxMzgoQ",
        "outputId": "92c71bbf-f800-47d9-932c-a767c0e7af08"
      },
      "source": [
        "# let's verify the models in pipeline\n",
        "nlp.pipe_names"
      ],
      "execution_count": null,
      "outputs": [
        {
          "output_type": "execute_result",
          "data": {
            "text/plain": [
              "['ner']"
            ]
          },
          "metadata": {
            "tags": []
          },
          "execution_count": 52
        }
      ]
    },
    {
      "cell_type": "markdown",
      "metadata": {
        "id": "SKq0JR0Q_0a0"
      },
      "source": [
        "Adding labels to the model for the named entity. We'll have to get all the Named Entity from annotations."
      ]
    },
    {
      "cell_type": "code",
      "metadata": {
        "id": "LWGCHUrizgrL"
      },
      "source": [
        "for _, annotations in training_data:\n",
        "\n",
        "  #this loops through each text entities\n",
        "    for ent in annotations.get('entities'):\n",
        "\n",
        "      #adds those entities to the ner model which we're going to train\n",
        "      ner.add_label(ent[2]) "
      ],
      "execution_count": null,
      "outputs": []
    },
    {
      "cell_type": "markdown",
      "metadata": {
        "id": "DNQZ-xASAh06"
      },
      "source": [
        "<b>Note: </b> One more thing, we'll have to make sure that we're only training for the NER and others are disbaled in the pipleline. "
      ]
    },
    {
      "cell_type": "code",
      "metadata": {
        "colab": {
          "base_uri": "https://localhost:8080/"
        },
        "id": "GCZKY5FCA_ov",
        "outputId": "67c826da-9b72-4834-8aae-0ffbc9b6e6cb"
      },
      "source": [
        "other_pipes = [pipe for pipe in nlp.pipe_names if pipe != 'ner']\n",
        "other_pipes # no others recognizer in pipeline"
      ],
      "execution_count": null,
      "outputs": [
        {
          "output_type": "execute_result",
          "data": {
            "text/plain": [
              "[]"
            ]
          },
          "metadata": {
            "tags": []
          },
          "execution_count": 58
        }
      ]
    },
    {
      "cell_type": "markdown",
      "metadata": {
        "id": "hGbJKpSXA-ou"
      },
      "source": [
        "Now, It's time to train the model finally. <br>\n",
        "One thing to note here, I'm just updating the spacy model with our own cutom dataset. To trian a custom model from scratch it requires huge data. "
      ]
    },
    {
      "cell_type": "code",
      "metadata": {
        "colab": {
          "base_uri": "https://localhost:8080/"
        },
        "id": "he7ImMSFeyW2",
        "outputId": "3a2d6655-a30b-4369-d8c0-7c9b5efce77f"
      },
      "source": [
        "with nlp.disable_pipes(*other_pipes):  # only train NER, disables others in pipeline\n",
        "    optimizer = nlp.begin_training()\n",
        "    for itn in range(n_iter):\n",
        "        random.shuffle(training_data)\n",
        "        losses = {}\n",
        "        for text, annotations in tqdm(training_data):\n",
        "            nlp.update([text], [annotations],drop=0.5,sgd=optimizer, losses=losses)\n",
        "        print(losses)"
      ],
      "execution_count": null,
      "outputs": [
        {
          "output_type": "stream",
          "text": [
            "100%|██████████| 38/38 [00:01<00:00, 19.78it/s]\n",
            "  5%|▌         | 2/38 [00:00<00:02, 15.30it/s]"
          ],
          "name": "stderr"
        },
        {
          "output_type": "stream",
          "text": [
            "{'ner': 263.47309134765527}\n"
          ],
          "name": "stdout"
        },
        {
          "output_type": "stream",
          "text": [
            "100%|██████████| 38/38 [00:01<00:00, 21.98it/s]\n",
            "  8%|▊         | 3/38 [00:00<00:01, 21.40it/s]"
          ],
          "name": "stderr"
        },
        {
          "output_type": "stream",
          "text": [
            "{'ner': 23.98043937964628}\n"
          ],
          "name": "stdout"
        },
        {
          "output_type": "stream",
          "text": [
            "100%|██████████| 38/38 [00:01<00:00, 20.45it/s]\n",
            "  5%|▌         | 2/38 [00:00<00:02, 13.35it/s]"
          ],
          "name": "stderr"
        },
        {
          "output_type": "stream",
          "text": [
            "{'ner': 23.88177177077473}\n"
          ],
          "name": "stdout"
        },
        {
          "output_type": "stream",
          "text": [
            "100%|██████████| 38/38 [00:01<00:00, 20.50it/s]\n",
            "  8%|▊         | 3/38 [00:00<00:01, 21.01it/s]"
          ],
          "name": "stderr"
        },
        {
          "output_type": "stream",
          "text": [
            "{'ner': 24.205534814540805}\n"
          ],
          "name": "stdout"
        },
        {
          "output_type": "stream",
          "text": [
            "100%|██████████| 38/38 [00:01<00:00, 21.02it/s]\n",
            "  8%|▊         | 3/38 [00:00<00:01, 28.36it/s]"
          ],
          "name": "stderr"
        },
        {
          "output_type": "stream",
          "text": [
            "{'ner': 22.096841001126368}\n"
          ],
          "name": "stdout"
        },
        {
          "output_type": "stream",
          "text": [
            "100%|██████████| 38/38 [00:01<00:00, 20.52it/s]\n",
            "  8%|▊         | 3/38 [00:00<00:01, 24.66it/s]"
          ],
          "name": "stderr"
        },
        {
          "output_type": "stream",
          "text": [
            "{'ner': 51.36145070879103}\n"
          ],
          "name": "stdout"
        },
        {
          "output_type": "stream",
          "text": [
            "100%|██████████| 38/38 [00:01<00:00, 20.23it/s]\n",
            "  8%|▊         | 3/38 [00:00<00:01, 24.35it/s]"
          ],
          "name": "stderr"
        },
        {
          "output_type": "stream",
          "text": [
            "{'ner': 52.516247011832085}\n"
          ],
          "name": "stdout"
        },
        {
          "output_type": "stream",
          "text": [
            "100%|██████████| 38/38 [00:01<00:00, 20.94it/s]\n",
            "  8%|▊         | 3/38 [00:00<00:01, 22.43it/s]"
          ],
          "name": "stderr"
        },
        {
          "output_type": "stream",
          "text": [
            "{'ner': 126.03233114899777}\n"
          ],
          "name": "stdout"
        },
        {
          "output_type": "stream",
          "text": [
            "100%|██████████| 38/38 [00:01<00:00, 20.77it/s]\n",
            "  5%|▌         | 2/38 [00:00<00:01, 19.98it/s]"
          ],
          "name": "stderr"
        },
        {
          "output_type": "stream",
          "text": [
            "{'ner': 48.232591410716815}\n"
          ],
          "name": "stdout"
        },
        {
          "output_type": "stream",
          "text": [
            "100%|██████████| 38/38 [00:01<00:00, 22.07it/s]\n",
            "  8%|▊         | 3/38 [00:00<00:01, 21.82it/s]"
          ],
          "name": "stderr"
        },
        {
          "output_type": "stream",
          "text": [
            "{'ner': 45.820238710043185}\n"
          ],
          "name": "stdout"
        },
        {
          "output_type": "stream",
          "text": [
            "100%|██████████| 38/38 [00:01<00:00, 20.13it/s]\n",
            "  8%|▊         | 3/38 [00:00<00:01, 20.98it/s]"
          ],
          "name": "stderr"
        },
        {
          "output_type": "stream",
          "text": [
            "{'ner': 28.89273220377206}\n"
          ],
          "name": "stdout"
        },
        {
          "output_type": "stream",
          "text": [
            "100%|██████████| 38/38 [00:01<00:00, 20.05it/s]\n",
            "  8%|▊         | 3/38 [00:00<00:01, 29.20it/s]"
          ],
          "name": "stderr"
        },
        {
          "output_type": "stream",
          "text": [
            "{'ner': 32.74580536124427}\n"
          ],
          "name": "stdout"
        },
        {
          "output_type": "stream",
          "text": [
            "100%|██████████| 38/38 [00:01<00:00, 20.60it/s]\n",
            "  8%|▊         | 3/38 [00:00<00:01, 22.96it/s]"
          ],
          "name": "stderr"
        },
        {
          "output_type": "stream",
          "text": [
            "{'ner': 29.597837142482845}\n"
          ],
          "name": "stdout"
        },
        {
          "output_type": "stream",
          "text": [
            "100%|██████████| 38/38 [00:01<00:00, 20.90it/s]\n",
            "  8%|▊         | 3/38 [00:00<00:01, 23.57it/s]"
          ],
          "name": "stderr"
        },
        {
          "output_type": "stream",
          "text": [
            "{'ner': 63.03583263646367}\n"
          ],
          "name": "stdout"
        },
        {
          "output_type": "stream",
          "text": [
            "100%|██████████| 38/38 [00:01<00:00, 21.35it/s]\n",
            "  8%|▊         | 3/38 [00:00<00:01, 29.42it/s]"
          ],
          "name": "stderr"
        },
        {
          "output_type": "stream",
          "text": [
            "{'ner': 44.66475382026664}\n"
          ],
          "name": "stdout"
        },
        {
          "output_type": "stream",
          "text": [
            "100%|██████████| 38/38 [00:01<00:00, 22.04it/s]\n",
            "  3%|▎         | 1/38 [00:00<00:04,  8.00it/s]"
          ],
          "name": "stderr"
        },
        {
          "output_type": "stream",
          "text": [
            "{'ner': 60.648380068105894}\n"
          ],
          "name": "stdout"
        },
        {
          "output_type": "stream",
          "text": [
            "100%|██████████| 38/38 [00:01<00:00, 22.01it/s]\n",
            "  8%|▊         | 3/38 [00:00<00:01, 24.85it/s]"
          ],
          "name": "stderr"
        },
        {
          "output_type": "stream",
          "text": [
            "{'ner': 166.58470331028795}\n"
          ],
          "name": "stdout"
        },
        {
          "output_type": "stream",
          "text": [
            "100%|██████████| 38/38 [00:01<00:00, 20.35it/s]\n",
            "  3%|▎         | 1/38 [00:00<00:04,  9.12it/s]"
          ],
          "name": "stderr"
        },
        {
          "output_type": "stream",
          "text": [
            "{'ner': 101.2897312884476}\n"
          ],
          "name": "stdout"
        },
        {
          "output_type": "stream",
          "text": [
            "100%|██████████| 38/38 [00:01<00:00, 19.28it/s]\n",
            "  8%|▊         | 3/38 [00:00<00:02, 15.49it/s]"
          ],
          "name": "stderr"
        },
        {
          "output_type": "stream",
          "text": [
            "{'ner': 70.28510466733306}\n"
          ],
          "name": "stdout"
        },
        {
          "output_type": "stream",
          "text": [
            "100%|██████████| 38/38 [00:01<00:00, 20.90it/s]\n",
            "  8%|▊         | 3/38 [00:00<00:01, 20.61it/s]"
          ],
          "name": "stderr"
        },
        {
          "output_type": "stream",
          "text": [
            "{'ner': 92.27643685377964}\n"
          ],
          "name": "stdout"
        },
        {
          "output_type": "stream",
          "text": [
            "100%|██████████| 38/38 [00:01<00:00, 20.80it/s]\n",
            "  5%|▌         | 2/38 [00:00<00:01, 19.40it/s]"
          ],
          "name": "stderr"
        },
        {
          "output_type": "stream",
          "text": [
            "{'ner': 43.409201252333695}\n"
          ],
          "name": "stdout"
        },
        {
          "output_type": "stream",
          "text": [
            "100%|██████████| 38/38 [00:01<00:00, 22.08it/s]\n",
            "  8%|▊         | 3/38 [00:00<00:01, 25.24it/s]"
          ],
          "name": "stderr"
        },
        {
          "output_type": "stream",
          "text": [
            "{'ner': 73.68900379764457}\n"
          ],
          "name": "stdout"
        },
        {
          "output_type": "stream",
          "text": [
            "100%|██████████| 38/38 [00:01<00:00, 19.95it/s]\n",
            "  5%|▌         | 2/38 [00:00<00:01, 19.75it/s]"
          ],
          "name": "stderr"
        },
        {
          "output_type": "stream",
          "text": [
            "{'ner': 60.38068956085008}\n"
          ],
          "name": "stdout"
        },
        {
          "output_type": "stream",
          "text": [
            "100%|██████████| 38/38 [00:01<00:00, 20.77it/s]\n",
            "  5%|▌         | 2/38 [00:00<00:01, 19.95it/s]"
          ],
          "name": "stderr"
        },
        {
          "output_type": "stream",
          "text": [
            "{'ner': 50.15722058668632}\n"
          ],
          "name": "stdout"
        },
        {
          "output_type": "stream",
          "text": [
            "100%|██████████| 38/38 [00:01<00:00, 19.92it/s]\n",
            "  8%|▊         | 3/38 [00:00<00:02, 15.77it/s]"
          ],
          "name": "stderr"
        },
        {
          "output_type": "stream",
          "text": [
            "{'ner': 106.53137280901728}\n"
          ],
          "name": "stdout"
        },
        {
          "output_type": "stream",
          "text": [
            "100%|██████████| 38/38 [00:01<00:00, 20.79it/s]\n",
            " 11%|█         | 4/38 [00:00<00:00, 34.70it/s]"
          ],
          "name": "stderr"
        },
        {
          "output_type": "stream",
          "text": [
            "{'ner': 30.64600867489356}\n"
          ],
          "name": "stdout"
        },
        {
          "output_type": "stream",
          "text": [
            "100%|██████████| 38/38 [00:01<00:00, 21.35it/s]\n",
            "  8%|▊         | 3/38 [00:00<00:01, 26.40it/s]"
          ],
          "name": "stderr"
        },
        {
          "output_type": "stream",
          "text": [
            "{'ner': 82.75904951827418}\n"
          ],
          "name": "stdout"
        },
        {
          "output_type": "stream",
          "text": [
            "100%|██████████| 38/38 [00:01<00:00, 22.69it/s]\n",
            "  8%|▊         | 3/38 [00:00<00:01, 26.47it/s]"
          ],
          "name": "stderr"
        },
        {
          "output_type": "stream",
          "text": [
            "{'ner': 78.32832152584068}\n"
          ],
          "name": "stdout"
        },
        {
          "output_type": "stream",
          "text": [
            "100%|██████████| 38/38 [00:01<00:00, 21.23it/s]\n",
            "  8%|▊         | 3/38 [00:00<00:01, 27.39it/s]"
          ],
          "name": "stderr"
        },
        {
          "output_type": "stream",
          "text": [
            "{'ner': 83.93148818977417}\n"
          ],
          "name": "stdout"
        },
        {
          "output_type": "stream",
          "text": [
            "100%|██████████| 38/38 [00:01<00:00, 20.33it/s]\n",
            "  8%|▊         | 3/38 [00:00<00:01, 23.01it/s]"
          ],
          "name": "stderr"
        },
        {
          "output_type": "stream",
          "text": [
            "{'ner': 65.87925281581602}\n"
          ],
          "name": "stdout"
        },
        {
          "output_type": "stream",
          "text": [
            "100%|██████████| 38/38 [00:01<00:00, 20.69it/s]\n",
            "  8%|▊         | 3/38 [00:00<00:01, 23.11it/s]"
          ],
          "name": "stderr"
        },
        {
          "output_type": "stream",
          "text": [
            "{'ner': 59.13421062895657}\n"
          ],
          "name": "stdout"
        },
        {
          "output_type": "stream",
          "text": [
            "100%|██████████| 38/38 [00:01<00:00, 20.42it/s]\n",
            "  8%|▊         | 3/38 [00:00<00:01, 24.09it/s]"
          ],
          "name": "stderr"
        },
        {
          "output_type": "stream",
          "text": [
            "{'ner': 65.02763871293628}\n"
          ],
          "name": "stdout"
        },
        {
          "output_type": "stream",
          "text": [
            "100%|██████████| 38/38 [00:01<00:00, 22.88it/s]\n",
            " 11%|█         | 4/38 [00:00<00:01, 24.24it/s]"
          ],
          "name": "stderr"
        },
        {
          "output_type": "stream",
          "text": [
            "{'ner': 39.85188135396827}\n"
          ],
          "name": "stdout"
        },
        {
          "output_type": "stream",
          "text": [
            "100%|██████████| 38/38 [00:01<00:00, 21.05it/s]\n",
            "  5%|▌         | 2/38 [00:00<00:01, 19.14it/s]"
          ],
          "name": "stderr"
        },
        {
          "output_type": "stream",
          "text": [
            "{'ner': 42.907112839793115}\n"
          ],
          "name": "stdout"
        },
        {
          "output_type": "stream",
          "text": [
            "100%|██████████| 38/38 [00:01<00:00, 20.07it/s]\n",
            "  5%|▌         | 2/38 [00:00<00:02, 12.56it/s]"
          ],
          "name": "stderr"
        },
        {
          "output_type": "stream",
          "text": [
            "{'ner': 60.162379268587166}\n"
          ],
          "name": "stdout"
        },
        {
          "output_type": "stream",
          "text": [
            "100%|██████████| 38/38 [00:01<00:00, 20.36it/s]\n",
            "  8%|▊         | 3/38 [00:00<00:01, 24.46it/s]"
          ],
          "name": "stderr"
        },
        {
          "output_type": "stream",
          "text": [
            "{'ner': 32.982684986242504}\n"
          ],
          "name": "stdout"
        },
        {
          "output_type": "stream",
          "text": [
            "100%|██████████| 38/38 [00:01<00:00, 19.76it/s]\n",
            "  8%|▊         | 3/38 [00:00<00:01, 27.38it/s]"
          ],
          "name": "stderr"
        },
        {
          "output_type": "stream",
          "text": [
            "{'ner': 50.730730414919805}\n"
          ],
          "name": "stdout"
        },
        {
          "output_type": "stream",
          "text": [
            "100%|██████████| 38/38 [00:01<00:00, 20.23it/s]\n",
            "  8%|▊         | 3/38 [00:00<00:01, 21.62it/s]"
          ],
          "name": "stderr"
        },
        {
          "output_type": "stream",
          "text": [
            "{'ner': 57.826142809597954}\n"
          ],
          "name": "stdout"
        },
        {
          "output_type": "stream",
          "text": [
            "100%|██████████| 38/38 [00:01<00:00, 19.66it/s]\n",
            "  8%|▊         | 3/38 [00:00<00:01, 22.62it/s]"
          ],
          "name": "stderr"
        },
        {
          "output_type": "stream",
          "text": [
            "{'ner': 62.393465629209246}\n"
          ],
          "name": "stdout"
        },
        {
          "output_type": "stream",
          "text": [
            "100%|██████████| 38/38 [00:01<00:00, 20.90it/s]\n",
            "  8%|▊         | 3/38 [00:00<00:01, 21.87it/s]"
          ],
          "name": "stderr"
        },
        {
          "output_type": "stream",
          "text": [
            "{'ner': 54.85179552778859}\n"
          ],
          "name": "stdout"
        },
        {
          "output_type": "stream",
          "text": [
            "100%|██████████| 38/38 [00:01<00:00, 23.25it/s]\n",
            "  8%|▊         | 3/38 [00:00<00:01, 18.58it/s]"
          ],
          "name": "stderr"
        },
        {
          "output_type": "stream",
          "text": [
            "{'ner': 84.50772702532801}\n"
          ],
          "name": "stdout"
        },
        {
          "output_type": "stream",
          "text": [
            "100%|██████████| 38/38 [00:01<00:00, 19.83it/s]\n",
            "  8%|▊         | 3/38 [00:00<00:01, 28.60it/s]"
          ],
          "name": "stderr"
        },
        {
          "output_type": "stream",
          "text": [
            "{'ner': 60.625733997125444}\n"
          ],
          "name": "stdout"
        },
        {
          "output_type": "stream",
          "text": [
            "100%|██████████| 38/38 [00:01<00:00, 19.91it/s]\n",
            "  8%|▊         | 3/38 [00:00<00:01, 22.06it/s]"
          ],
          "name": "stderr"
        },
        {
          "output_type": "stream",
          "text": [
            "{'ner': 51.8517478369475}\n"
          ],
          "name": "stdout"
        },
        {
          "output_type": "stream",
          "text": [
            "100%|██████████| 38/38 [00:01<00:00, 21.50it/s]\n",
            "  8%|▊         | 3/38 [00:00<00:01, 23.77it/s]"
          ],
          "name": "stderr"
        },
        {
          "output_type": "stream",
          "text": [
            "{'ner': 59.003513767420756}\n"
          ],
          "name": "stdout"
        },
        {
          "output_type": "stream",
          "text": [
            "100%|██████████| 38/38 [00:01<00:00, 19.95it/s]\n",
            "  5%|▌         | 2/38 [00:00<00:02, 16.01it/s]"
          ],
          "name": "stderr"
        },
        {
          "output_type": "stream",
          "text": [
            "{'ner': 108.77054113287109}\n"
          ],
          "name": "stdout"
        },
        {
          "output_type": "stream",
          "text": [
            "100%|██████████| 38/38 [00:01<00:00, 19.53it/s]\n",
            "  8%|▊         | 3/38 [00:00<00:01, 27.86it/s]"
          ],
          "name": "stderr"
        },
        {
          "output_type": "stream",
          "text": [
            "{'ner': 48.07492494995784}\n"
          ],
          "name": "stdout"
        },
        {
          "output_type": "stream",
          "text": [
            "100%|██████████| 38/38 [00:01<00:00, 20.63it/s]\n",
            "  8%|▊         | 3/38 [00:00<00:01, 20.10it/s]"
          ],
          "name": "stderr"
        },
        {
          "output_type": "stream",
          "text": [
            "{'ner': 58.01075824569942}\n"
          ],
          "name": "stdout"
        },
        {
          "output_type": "stream",
          "text": [
            "100%|██████████| 38/38 [00:01<00:00, 19.28it/s]\n",
            "  8%|▊         | 3/38 [00:00<00:01, 20.86it/s]"
          ],
          "name": "stderr"
        },
        {
          "output_type": "stream",
          "text": [
            "{'ner': 45.77360548553272}\n"
          ],
          "name": "stdout"
        },
        {
          "output_type": "stream",
          "text": [
            "100%|██████████| 38/38 [00:01<00:00, 19.46it/s]\n",
            "  5%|▌         | 2/38 [00:00<00:02, 14.51it/s]"
          ],
          "name": "stderr"
        },
        {
          "output_type": "stream",
          "text": [
            "{'ner': 65.40811895731652}\n"
          ],
          "name": "stdout"
        },
        {
          "output_type": "stream",
          "text": [
            "100%|██████████| 38/38 [00:01<00:00, 19.72it/s]\n",
            "  8%|▊         | 3/38 [00:00<00:01, 23.98it/s]"
          ],
          "name": "stderr"
        },
        {
          "output_type": "stream",
          "text": [
            "{'ner': 46.28459273032416}\n"
          ],
          "name": "stdout"
        },
        {
          "output_type": "stream",
          "text": [
            "100%|██████████| 38/38 [00:01<00:00, 20.31it/s]\n",
            "  8%|▊         | 3/38 [00:00<00:01, 27.36it/s]"
          ],
          "name": "stderr"
        },
        {
          "output_type": "stream",
          "text": [
            "{'ner': 20.35139103293883}\n"
          ],
          "name": "stdout"
        },
        {
          "output_type": "stream",
          "text": [
            "100%|██████████| 38/38 [00:01<00:00, 19.69it/s]\n",
            "  5%|▌         | 2/38 [00:00<00:02, 12.82it/s]"
          ],
          "name": "stderr"
        },
        {
          "output_type": "stream",
          "text": [
            "{'ner': 81.90797795294618}\n"
          ],
          "name": "stdout"
        },
        {
          "output_type": "stream",
          "text": [
            "100%|██████████| 38/38 [00:01<00:00, 20.09it/s]\n",
            "  8%|▊         | 3/38 [00:00<00:01, 26.84it/s]"
          ],
          "name": "stderr"
        },
        {
          "output_type": "stream",
          "text": [
            "{'ner': 70.05631396538425}\n"
          ],
          "name": "stdout"
        },
        {
          "output_type": "stream",
          "text": [
            "100%|██████████| 38/38 [00:01<00:00, 20.12it/s]\n",
            "  8%|▊         | 3/38 [00:00<00:01, 23.29it/s]"
          ],
          "name": "stderr"
        },
        {
          "output_type": "stream",
          "text": [
            "{'ner': 63.74171613008122}\n"
          ],
          "name": "stdout"
        },
        {
          "output_type": "stream",
          "text": [
            "100%|██████████| 38/38 [00:01<00:00, 19.32it/s]\n",
            "  8%|▊         | 3/38 [00:00<00:01, 26.84it/s]"
          ],
          "name": "stderr"
        },
        {
          "output_type": "stream",
          "text": [
            "{'ner': 85.2866029462275}\n"
          ],
          "name": "stdout"
        },
        {
          "output_type": "stream",
          "text": [
            "100%|██████████| 38/38 [00:01<00:00, 19.64it/s]\n",
            "  8%|▊         | 3/38 [00:00<00:01, 21.92it/s]"
          ],
          "name": "stderr"
        },
        {
          "output_type": "stream",
          "text": [
            "{'ner': 45.84416587638365}\n"
          ],
          "name": "stdout"
        },
        {
          "output_type": "stream",
          "text": [
            "100%|██████████| 38/38 [00:01<00:00, 20.30it/s]\n",
            "  8%|▊         | 3/38 [00:00<00:02, 16.99it/s]"
          ],
          "name": "stderr"
        },
        {
          "output_type": "stream",
          "text": [
            "{'ner': 90.31131488641803}\n"
          ],
          "name": "stdout"
        },
        {
          "output_type": "stream",
          "text": [
            "100%|██████████| 38/38 [00:01<00:00, 20.69it/s]\n",
            "  5%|▌         | 2/38 [00:00<00:02, 15.24it/s]"
          ],
          "name": "stderr"
        },
        {
          "output_type": "stream",
          "text": [
            "{'ner': 49.648752892023005}\n"
          ],
          "name": "stdout"
        },
        {
          "output_type": "stream",
          "text": [
            "100%|██████████| 38/38 [00:01<00:00, 20.22it/s]\n",
            "  8%|▊         | 3/38 [00:00<00:01, 21.92it/s]"
          ],
          "name": "stderr"
        },
        {
          "output_type": "stream",
          "text": [
            "{'ner': 23.46471761456091}\n"
          ],
          "name": "stdout"
        },
        {
          "output_type": "stream",
          "text": [
            "100%|██████████| 38/38 [00:01<00:00, 20.15it/s]\n",
            "  8%|▊         | 3/38 [00:00<00:01, 23.92it/s]"
          ],
          "name": "stderr"
        },
        {
          "output_type": "stream",
          "text": [
            "{'ner': 79.91976127140583}\n"
          ],
          "name": "stdout"
        },
        {
          "output_type": "stream",
          "text": [
            "100%|██████████| 38/38 [00:01<00:00, 19.97it/s]\n",
            "  3%|▎         | 1/38 [00:00<00:04,  7.55it/s]"
          ],
          "name": "stderr"
        },
        {
          "output_type": "stream",
          "text": [
            "{'ner': 82.41543465615055}\n"
          ],
          "name": "stdout"
        },
        {
          "output_type": "stream",
          "text": [
            "100%|██████████| 38/38 [00:01<00:00, 19.29it/s]\n",
            "  8%|▊         | 3/38 [00:00<00:01, 22.68it/s]"
          ],
          "name": "stderr"
        },
        {
          "output_type": "stream",
          "text": [
            "{'ner': 77.45859115384455}\n"
          ],
          "name": "stdout"
        },
        {
          "output_type": "stream",
          "text": [
            "100%|██████████| 38/38 [00:01<00:00, 19.37it/s]\n",
            "  5%|▌         | 2/38 [00:00<00:01, 18.91it/s]"
          ],
          "name": "stderr"
        },
        {
          "output_type": "stream",
          "text": [
            "{'ner': 49.75322813199699}\n"
          ],
          "name": "stdout"
        },
        {
          "output_type": "stream",
          "text": [
            "100%|██████████| 38/38 [00:01<00:00, 19.46it/s]\n",
            "  8%|▊         | 3/38 [00:00<00:01, 21.81it/s]"
          ],
          "name": "stderr"
        },
        {
          "output_type": "stream",
          "text": [
            "{'ner': 43.88796089253509}\n"
          ],
          "name": "stdout"
        },
        {
          "output_type": "stream",
          "text": [
            "100%|██████████| 38/38 [00:01<00:00, 20.34it/s]\n",
            "  8%|▊         | 3/38 [00:00<00:01, 19.30it/s]"
          ],
          "name": "stderr"
        },
        {
          "output_type": "stream",
          "text": [
            "{'ner': 46.613560514021906}\n"
          ],
          "name": "stdout"
        },
        {
          "output_type": "stream",
          "text": [
            "100%|██████████| 38/38 [00:01<00:00, 20.19it/s]\n",
            "  8%|▊         | 3/38 [00:00<00:01, 26.00it/s]"
          ],
          "name": "stderr"
        },
        {
          "output_type": "stream",
          "text": [
            "{'ner': 11.10722888918485}\n"
          ],
          "name": "stdout"
        },
        {
          "output_type": "stream",
          "text": [
            "100%|██████████| 38/38 [00:01<00:00, 19.61it/s]\n",
            "  5%|▌         | 2/38 [00:00<00:02, 15.96it/s]"
          ],
          "name": "stderr"
        },
        {
          "output_type": "stream",
          "text": [
            "{'ner': 57.04065823063092}\n"
          ],
          "name": "stdout"
        },
        {
          "output_type": "stream",
          "text": [
            "100%|██████████| 38/38 [00:01<00:00, 21.90it/s]\n",
            "  8%|▊         | 3/38 [00:00<00:01, 24.99it/s]"
          ],
          "name": "stderr"
        },
        {
          "output_type": "stream",
          "text": [
            "{'ner': 33.600010680567415}\n"
          ],
          "name": "stdout"
        },
        {
          "output_type": "stream",
          "text": [
            "100%|██████████| 38/38 [00:01<00:00, 20.00it/s]\n",
            "  8%|▊         | 3/38 [00:00<00:01, 22.84it/s]"
          ],
          "name": "stderr"
        },
        {
          "output_type": "stream",
          "text": [
            "{'ner': 50.72619690025291}\n"
          ],
          "name": "stdout"
        },
        {
          "output_type": "stream",
          "text": [
            "100%|██████████| 38/38 [00:01<00:00, 21.29it/s]\n",
            "  8%|▊         | 3/38 [00:00<00:01, 25.89it/s]"
          ],
          "name": "stderr"
        },
        {
          "output_type": "stream",
          "text": [
            "{'ner': 46.58607477640154}\n"
          ],
          "name": "stdout"
        },
        {
          "output_type": "stream",
          "text": [
            "100%|██████████| 38/38 [00:01<00:00, 20.64it/s]\n",
            "  8%|▊         | 3/38 [00:00<00:01, 22.94it/s]"
          ],
          "name": "stderr"
        },
        {
          "output_type": "stream",
          "text": [
            "{'ner': 28.968780374029667}\n"
          ],
          "name": "stdout"
        },
        {
          "output_type": "stream",
          "text": [
            "100%|██████████| 38/38 [00:01<00:00, 20.56it/s]\n",
            "  5%|▌         | 2/38 [00:00<00:01, 18.33it/s]"
          ],
          "name": "stderr"
        },
        {
          "output_type": "stream",
          "text": [
            "{'ner': 62.982693404316976}\n"
          ],
          "name": "stdout"
        },
        {
          "output_type": "stream",
          "text": [
            "100%|██████████| 38/38 [00:01<00:00, 19.73it/s]\n",
            "  5%|▌         | 2/38 [00:00<00:01, 18.17it/s]"
          ],
          "name": "stderr"
        },
        {
          "output_type": "stream",
          "text": [
            "{'ner': 29.282167832342665}\n"
          ],
          "name": "stdout"
        },
        {
          "output_type": "stream",
          "text": [
            "100%|██████████| 38/38 [00:01<00:00, 20.05it/s]\n",
            "  8%|▊         | 3/38 [00:00<00:01, 23.04it/s]"
          ],
          "name": "stderr"
        },
        {
          "output_type": "stream",
          "text": [
            "{'ner': 49.560980683505065}\n"
          ],
          "name": "stdout"
        },
        {
          "output_type": "stream",
          "text": [
            "100%|██████████| 38/38 [00:01<00:00, 21.90it/s]\n",
            "  5%|▌         | 2/38 [00:00<00:01, 19.28it/s]"
          ],
          "name": "stderr"
        },
        {
          "output_type": "stream",
          "text": [
            "{'ner': 16.353402079758755}\n"
          ],
          "name": "stdout"
        },
        {
          "output_type": "stream",
          "text": [
            "100%|██████████| 38/38 [00:01<00:00, 21.53it/s]\n",
            "  5%|▌         | 2/38 [00:00<00:01, 18.59it/s]"
          ],
          "name": "stderr"
        },
        {
          "output_type": "stream",
          "text": [
            "{'ner': 25.11493295978642}\n"
          ],
          "name": "stdout"
        },
        {
          "output_type": "stream",
          "text": [
            "100%|██████████| 38/38 [00:01<00:00, 20.39it/s]\n",
            "  5%|▌         | 2/38 [00:00<00:02, 15.24it/s]"
          ],
          "name": "stderr"
        },
        {
          "output_type": "stream",
          "text": [
            "{'ner': 33.509952610828364}\n"
          ],
          "name": "stdout"
        },
        {
          "output_type": "stream",
          "text": [
            "100%|██████████| 38/38 [00:01<00:00, 20.27it/s]\n",
            "  8%|▊         | 3/38 [00:00<00:01, 20.85it/s]"
          ],
          "name": "stderr"
        },
        {
          "output_type": "stream",
          "text": [
            "{'ner': 23.87548244178066}\n"
          ],
          "name": "stdout"
        },
        {
          "output_type": "stream",
          "text": [
            "100%|██████████| 38/38 [00:01<00:00, 20.75it/s]\n",
            "  5%|▌         | 2/38 [00:00<00:02, 17.13it/s]"
          ],
          "name": "stderr"
        },
        {
          "output_type": "stream",
          "text": [
            "{'ner': 33.33030777597859}\n"
          ],
          "name": "stdout"
        },
        {
          "output_type": "stream",
          "text": [
            "100%|██████████| 38/38 [00:01<00:00, 19.51it/s]\n",
            "  8%|▊         | 3/38 [00:00<00:01, 22.95it/s]"
          ],
          "name": "stderr"
        },
        {
          "output_type": "stream",
          "text": [
            "{'ner': 33.54965631416913}\n"
          ],
          "name": "stdout"
        },
        {
          "output_type": "stream",
          "text": [
            "100%|██████████| 38/38 [00:01<00:00, 20.88it/s]\n",
            "  8%|▊         | 3/38 [00:00<00:01, 18.24it/s]"
          ],
          "name": "stderr"
        },
        {
          "output_type": "stream",
          "text": [
            "{'ner': 25.84242710098839}\n"
          ],
          "name": "stdout"
        },
        {
          "output_type": "stream",
          "text": [
            "100%|██████████| 38/38 [00:01<00:00, 20.48it/s]\n",
            "  8%|▊         | 3/38 [00:00<00:01, 19.77it/s]"
          ],
          "name": "stderr"
        },
        {
          "output_type": "stream",
          "text": [
            "{'ner': 11.464001232139259}\n"
          ],
          "name": "stdout"
        },
        {
          "output_type": "stream",
          "text": [
            "100%|██████████| 38/38 [00:01<00:00, 20.30it/s]\n",
            "  5%|▌         | 2/38 [00:00<00:03, 11.52it/s]"
          ],
          "name": "stderr"
        },
        {
          "output_type": "stream",
          "text": [
            "{'ner': 30.03031856953828}\n"
          ],
          "name": "stdout"
        },
        {
          "output_type": "stream",
          "text": [
            "100%|██████████| 38/38 [00:01<00:00, 19.90it/s]\n",
            "  8%|▊         | 3/38 [00:00<00:01, 24.66it/s]"
          ],
          "name": "stderr"
        },
        {
          "output_type": "stream",
          "text": [
            "{'ner': 43.450818354721335}\n"
          ],
          "name": "stdout"
        },
        {
          "output_type": "stream",
          "text": [
            "100%|██████████| 38/38 [00:01<00:00, 20.30it/s]\n",
            "  5%|▌         | 2/38 [00:00<00:02, 16.68it/s]"
          ],
          "name": "stderr"
        },
        {
          "output_type": "stream",
          "text": [
            "{'ner': 31.217555691489874}\n"
          ],
          "name": "stdout"
        },
        {
          "output_type": "stream",
          "text": [
            "100%|██████████| 38/38 [00:01<00:00, 20.52it/s]\n",
            "  8%|▊         | 3/38 [00:00<00:01, 27.87it/s]"
          ],
          "name": "stderr"
        },
        {
          "output_type": "stream",
          "text": [
            "{'ner': 14.254941709191002}\n"
          ],
          "name": "stdout"
        },
        {
          "output_type": "stream",
          "text": [
            "100%|██████████| 38/38 [00:01<00:00, 20.35it/s]\n",
            "  5%|▌         | 2/38 [00:00<00:01, 19.04it/s]"
          ],
          "name": "stderr"
        },
        {
          "output_type": "stream",
          "text": [
            "{'ner': 37.0049479380068}\n"
          ],
          "name": "stdout"
        },
        {
          "output_type": "stream",
          "text": [
            "100%|██████████| 38/38 [00:01<00:00, 23.17it/s]\n",
            "  8%|▊         | 3/38 [00:00<00:01, 27.78it/s]"
          ],
          "name": "stderr"
        },
        {
          "output_type": "stream",
          "text": [
            "{'ner': 9.013850119778924}\n"
          ],
          "name": "stdout"
        },
        {
          "output_type": "stream",
          "text": [
            "100%|██████████| 38/38 [00:01<00:00, 19.81it/s]\n",
            "  8%|▊         | 3/38 [00:00<00:01, 22.17it/s]"
          ],
          "name": "stderr"
        },
        {
          "output_type": "stream",
          "text": [
            "{'ner': 50.11222183277877}\n"
          ],
          "name": "stdout"
        },
        {
          "output_type": "stream",
          "text": [
            "100%|██████████| 38/38 [00:01<00:00, 19.94it/s]\n",
            "  3%|▎         | 1/38 [00:00<00:03,  9.48it/s]"
          ],
          "name": "stderr"
        },
        {
          "output_type": "stream",
          "text": [
            "{'ner': 26.990522630525927}\n"
          ],
          "name": "stdout"
        },
        {
          "output_type": "stream",
          "text": [
            "100%|██████████| 38/38 [00:01<00:00, 19.66it/s]\n",
            "  8%|▊         | 3/38 [00:00<00:01, 22.99it/s]"
          ],
          "name": "stderr"
        },
        {
          "output_type": "stream",
          "text": [
            "{'ner': 24.819785069270566}\n"
          ],
          "name": "stdout"
        },
        {
          "output_type": "stream",
          "text": [
            "100%|██████████| 38/38 [00:01<00:00, 19.46it/s]\n",
            "  5%|▌         | 2/38 [00:00<00:02, 16.19it/s]"
          ],
          "name": "stderr"
        },
        {
          "output_type": "stream",
          "text": [
            "{'ner': 42.09639939031446}\n"
          ],
          "name": "stdout"
        },
        {
          "output_type": "stream",
          "text": [
            "100%|██████████| 38/38 [00:01<00:00, 19.39it/s]\n",
            "  5%|▌         | 2/38 [00:00<00:02, 13.89it/s]"
          ],
          "name": "stderr"
        },
        {
          "output_type": "stream",
          "text": [
            "{'ner': 5.265364480205916}\n"
          ],
          "name": "stdout"
        },
        {
          "output_type": "stream",
          "text": [
            "100%|██████████| 38/38 [00:01<00:00, 19.35it/s]\n",
            "  5%|▌         | 2/38 [00:00<00:01, 18.06it/s]"
          ],
          "name": "stderr"
        },
        {
          "output_type": "stream",
          "text": [
            "{'ner': 61.46415734934326}\n"
          ],
          "name": "stdout"
        },
        {
          "output_type": "stream",
          "text": [
            "100%|██████████| 38/38 [00:01<00:00, 20.09it/s]\n",
            "  8%|▊         | 3/38 [00:00<00:01, 21.21it/s]"
          ],
          "name": "stderr"
        },
        {
          "output_type": "stream",
          "text": [
            "{'ner': 5.557090600204297}\n"
          ],
          "name": "stdout"
        },
        {
          "output_type": "stream",
          "text": [
            "100%|██████████| 38/38 [00:01<00:00, 20.16it/s]\n",
            "  5%|▌         | 2/38 [00:00<00:02, 16.53it/s]"
          ],
          "name": "stderr"
        },
        {
          "output_type": "stream",
          "text": [
            "{'ner': 40.081301810283044}\n"
          ],
          "name": "stdout"
        },
        {
          "output_type": "stream",
          "text": [
            "100%|██████████| 38/38 [00:01<00:00, 22.45it/s]\n",
            "  5%|▌         | 2/38 [00:00<00:03, 10.81it/s]"
          ],
          "name": "stderr"
        },
        {
          "output_type": "stream",
          "text": [
            "{'ner': 8.098968684767373}\n"
          ],
          "name": "stdout"
        },
        {
          "output_type": "stream",
          "text": [
            "100%|██████████| 38/38 [00:01<00:00, 19.37it/s]\n",
            "  8%|▊         | 3/38 [00:00<00:01, 20.33it/s]"
          ],
          "name": "stderr"
        },
        {
          "output_type": "stream",
          "text": [
            "{'ner': 7.5381027980532735}\n"
          ],
          "name": "stdout"
        },
        {
          "output_type": "stream",
          "text": [
            "100%|██████████| 38/38 [00:01<00:00, 19.84it/s]\n",
            "  5%|▌         | 2/38 [00:00<00:02, 13.86it/s]"
          ],
          "name": "stderr"
        },
        {
          "output_type": "stream",
          "text": [
            "{'ner': 11.441357579042059}\n"
          ],
          "name": "stdout"
        },
        {
          "output_type": "stream",
          "text": [
            "100%|██████████| 38/38 [00:01<00:00, 19.90it/s]\n",
            "  8%|▊         | 3/38 [00:00<00:01, 24.21it/s]"
          ],
          "name": "stderr"
        },
        {
          "output_type": "stream",
          "text": [
            "{'ner': 27.851521383634736}\n"
          ],
          "name": "stdout"
        },
        {
          "output_type": "stream",
          "text": [
            "100%|██████████| 38/38 [00:01<00:00, 19.87it/s]\n",
            "  8%|▊         | 3/38 [00:00<00:01, 20.75it/s]"
          ],
          "name": "stderr"
        },
        {
          "output_type": "stream",
          "text": [
            "{'ner': 15.833060124398804}\n"
          ],
          "name": "stdout"
        },
        {
          "output_type": "stream",
          "text": [
            "100%|██████████| 38/38 [00:01<00:00, 20.18it/s]\n",
            "  8%|▊         | 3/38 [00:00<00:01, 23.42it/s]"
          ],
          "name": "stderr"
        },
        {
          "output_type": "stream",
          "text": [
            "{'ner': 9.04322693614417}\n"
          ],
          "name": "stdout"
        },
        {
          "output_type": "stream",
          "text": [
            "100%|██████████| 38/38 [00:01<00:00, 19.83it/s]\n",
            "  5%|▌         | 2/38 [00:00<00:02, 15.56it/s]"
          ],
          "name": "stderr"
        },
        {
          "output_type": "stream",
          "text": [
            "{'ner': 11.564287356062785}\n"
          ],
          "name": "stdout"
        },
        {
          "output_type": "stream",
          "text": [
            "100%|██████████| 38/38 [00:01<00:00, 19.90it/s]\n",
            "  8%|▊         | 3/38 [00:00<00:01, 27.24it/s]"
          ],
          "name": "stderr"
        },
        {
          "output_type": "stream",
          "text": [
            "{'ner': 12.786314176549055}\n"
          ],
          "name": "stdout"
        },
        {
          "output_type": "stream",
          "text": [
            "100%|██████████| 38/38 [00:01<00:00, 20.31it/s]\n",
            "  5%|▌         | 2/38 [00:00<00:02, 14.47it/s]"
          ],
          "name": "stderr"
        },
        {
          "output_type": "stream",
          "text": [
            "{'ner': 10.42921156922586}\n"
          ],
          "name": "stdout"
        },
        {
          "output_type": "stream",
          "text": [
            "100%|██████████| 38/38 [00:02<00:00, 18.95it/s]\n",
            "  8%|▊         | 3/38 [00:00<00:01, 17.99it/s]"
          ],
          "name": "stderr"
        },
        {
          "output_type": "stream",
          "text": [
            "{'ner': 22.500514614384194}\n"
          ],
          "name": "stdout"
        },
        {
          "output_type": "stream",
          "text": [
            "100%|██████████| 38/38 [00:01<00:00, 21.08it/s]\n",
            "  8%|▊         | 3/38 [00:00<00:01, 24.26it/s]"
          ],
          "name": "stderr"
        },
        {
          "output_type": "stream",
          "text": [
            "{'ner': 18.596567896383682}\n"
          ],
          "name": "stdout"
        },
        {
          "output_type": "stream",
          "text": [
            "100%|██████████| 38/38 [00:01<00:00, 19.99it/s]\n",
            "  8%|▊         | 3/38 [00:00<00:02, 15.37it/s]"
          ],
          "name": "stderr"
        },
        {
          "output_type": "stream",
          "text": [
            "{'ner': 37.33413472512753}\n"
          ],
          "name": "stdout"
        },
        {
          "output_type": "stream",
          "text": [
            "100%|██████████| 38/38 [00:01<00:00, 19.85it/s]\n",
            "  3%|▎         | 1/38 [00:00<00:04,  9.20it/s]"
          ],
          "name": "stderr"
        },
        {
          "output_type": "stream",
          "text": [
            "{'ner': 19.65924155869518}\n"
          ],
          "name": "stdout"
        },
        {
          "output_type": "stream",
          "text": [
            "100%|██████████| 38/38 [00:01<00:00, 19.35it/s]\n",
            "  0%|          | 0/38 [00:00<?, ?it/s]"
          ],
          "name": "stderr"
        },
        {
          "output_type": "stream",
          "text": [
            "{'ner': 5.670294126011072}\n"
          ],
          "name": "stdout"
        },
        {
          "output_type": "stream",
          "text": [
            "100%|██████████| 38/38 [00:01<00:00, 19.56it/s]\n",
            "  5%|▌         | 2/38 [00:00<00:02, 15.16it/s]"
          ],
          "name": "stderr"
        },
        {
          "output_type": "stream",
          "text": [
            "{'ner': 11.600209488652174}\n"
          ],
          "name": "stdout"
        },
        {
          "output_type": "stream",
          "text": [
            "100%|██████████| 38/38 [00:01<00:00, 19.39it/s]\n",
            "  8%|▊         | 3/38 [00:00<00:01, 27.09it/s]"
          ],
          "name": "stderr"
        },
        {
          "output_type": "stream",
          "text": [
            "{'ner': 35.61035118288907}\n"
          ],
          "name": "stdout"
        },
        {
          "output_type": "stream",
          "text": [
            "100%|██████████| 38/38 [00:01<00:00, 20.26it/s]\n",
            "  8%|▊         | 3/38 [00:00<00:01, 26.29it/s]"
          ],
          "name": "stderr"
        },
        {
          "output_type": "stream",
          "text": [
            "{'ner': 38.06062927375291}\n"
          ],
          "name": "stdout"
        },
        {
          "output_type": "stream",
          "text": [
            "100%|██████████| 38/38 [00:01<00:00, 19.33it/s]\n",
            "  5%|▌         | 2/38 [00:00<00:01, 18.53it/s]"
          ],
          "name": "stderr"
        },
        {
          "output_type": "stream",
          "text": [
            "{'ner': 12.594316175234583}\n"
          ],
          "name": "stdout"
        },
        {
          "output_type": "stream",
          "text": [
            "100%|██████████| 38/38 [00:01<00:00, 20.08it/s]\n",
            "  8%|▊         | 3/38 [00:00<00:01, 25.36it/s]"
          ],
          "name": "stderr"
        },
        {
          "output_type": "stream",
          "text": [
            "{'ner': 40.70796896031671}\n"
          ],
          "name": "stdout"
        },
        {
          "output_type": "stream",
          "text": [
            "100%|██████████| 38/38 [00:01<00:00, 20.25it/s]\n",
            "  3%|▎         | 1/38 [00:00<00:04,  8.99it/s]"
          ],
          "name": "stderr"
        },
        {
          "output_type": "stream",
          "text": [
            "{'ner': 13.381848902913466}\n"
          ],
          "name": "stdout"
        },
        {
          "output_type": "stream",
          "text": [
            "100%|██████████| 38/38 [00:01<00:00, 19.65it/s]\n",
            "  8%|▊         | 3/38 [00:00<00:01, 27.33it/s]"
          ],
          "name": "stderr"
        },
        {
          "output_type": "stream",
          "text": [
            "{'ner': 60.09669634462838}\n"
          ],
          "name": "stdout"
        },
        {
          "output_type": "stream",
          "text": [
            "100%|██████████| 38/38 [00:01<00:00, 20.01it/s]\n",
            " 11%|█         | 4/38 [00:00<00:01, 31.32it/s]"
          ],
          "name": "stderr"
        },
        {
          "output_type": "stream",
          "text": [
            "{'ner': 13.881868406107518}\n"
          ],
          "name": "stdout"
        },
        {
          "output_type": "stream",
          "text": [
            "100%|██████████| 38/38 [00:01<00:00, 20.96it/s]\n",
            "  8%|▊         | 3/38 [00:00<00:01, 25.54it/s]"
          ],
          "name": "stderr"
        },
        {
          "output_type": "stream",
          "text": [
            "{'ner': 15.27870234783968}\n"
          ],
          "name": "stdout"
        },
        {
          "output_type": "stream",
          "text": [
            "100%|██████████| 38/38 [00:01<00:00, 21.94it/s]\n",
            "  5%|▌         | 2/38 [00:00<00:01, 19.52it/s]"
          ],
          "name": "stderr"
        },
        {
          "output_type": "stream",
          "text": [
            "{'ner': 39.70807627342094}\n"
          ],
          "name": "stdout"
        },
        {
          "output_type": "stream",
          "text": [
            "100%|██████████| 38/38 [00:01<00:00, 19.55it/s]\n",
            "  5%|▌         | 2/38 [00:00<00:02, 12.41it/s]"
          ],
          "name": "stderr"
        },
        {
          "output_type": "stream",
          "text": [
            "{'ner': 16.3788655442218}\n"
          ],
          "name": "stdout"
        },
        {
          "output_type": "stream",
          "text": [
            "100%|██████████| 38/38 [00:01<00:00, 19.81it/s]\n",
            "  8%|▊         | 3/38 [00:00<00:01, 22.14it/s]"
          ],
          "name": "stderr"
        },
        {
          "output_type": "stream",
          "text": [
            "{'ner': 20.295157669685736}\n"
          ],
          "name": "stdout"
        },
        {
          "output_type": "stream",
          "text": [
            "100%|██████████| 38/38 [00:01<00:00, 20.14it/s]\n",
            " 11%|█         | 4/38 [00:00<00:01, 32.74it/s]"
          ],
          "name": "stderr"
        },
        {
          "output_type": "stream",
          "text": [
            "{'ner': 35.49331515850615}\n"
          ],
          "name": "stdout"
        },
        {
          "output_type": "stream",
          "text": [
            "100%|██████████| 38/38 [00:01<00:00, 19.88it/s]\n",
            "  8%|▊         | 3/38 [00:00<00:01, 17.53it/s]"
          ],
          "name": "stderr"
        },
        {
          "output_type": "stream",
          "text": [
            "{'ner': 14.637767184037944}\n"
          ],
          "name": "stdout"
        },
        {
          "output_type": "stream",
          "text": [
            "100%|██████████| 38/38 [00:01<00:00, 21.99it/s]\n",
            "  5%|▌         | 2/38 [00:00<00:01, 18.58it/s]"
          ],
          "name": "stderr"
        },
        {
          "output_type": "stream",
          "text": [
            "{'ner': 12.739170546303862}\n"
          ],
          "name": "stdout"
        },
        {
          "output_type": "stream",
          "text": [
            "100%|██████████| 38/38 [00:02<00:00, 18.97it/s]\n",
            "  3%|▎         | 1/38 [00:00<00:04,  8.94it/s]"
          ],
          "name": "stderr"
        },
        {
          "output_type": "stream",
          "text": [
            "{'ner': 50.307894921333116}\n"
          ],
          "name": "stdout"
        },
        {
          "output_type": "stream",
          "text": [
            "100%|██████████| 38/38 [00:01<00:00, 20.82it/s]\n",
            "  8%|▊         | 3/38 [00:00<00:01, 21.90it/s]"
          ],
          "name": "stderr"
        },
        {
          "output_type": "stream",
          "text": [
            "{'ner': 6.601674847631878}\n"
          ],
          "name": "stdout"
        },
        {
          "output_type": "stream",
          "text": [
            "100%|██████████| 38/38 [00:01<00:00, 20.48it/s]\n",
            "  8%|▊         | 3/38 [00:00<00:01, 22.71it/s]"
          ],
          "name": "stderr"
        },
        {
          "output_type": "stream",
          "text": [
            "{'ner': 20.998723901760087}\n"
          ],
          "name": "stdout"
        },
        {
          "output_type": "stream",
          "text": [
            "100%|██████████| 38/38 [00:01<00:00, 22.19it/s]\n",
            "  8%|▊         | 3/38 [00:00<00:01, 25.92it/s]"
          ],
          "name": "stderr"
        },
        {
          "output_type": "stream",
          "text": [
            "{'ner': 27.175271611683982}\n"
          ],
          "name": "stdout"
        },
        {
          "output_type": "stream",
          "text": [
            "100%|██████████| 38/38 [00:01<00:00, 20.05it/s]\n",
            "  5%|▌         | 2/38 [00:00<00:02, 13.54it/s]"
          ],
          "name": "stderr"
        },
        {
          "output_type": "stream",
          "text": [
            "{'ner': 18.41715992721238}\n"
          ],
          "name": "stdout"
        },
        {
          "output_type": "stream",
          "text": [
            "100%|██████████| 38/38 [00:01<00:00, 19.52it/s]\n",
            "  8%|▊         | 3/38 [00:00<00:01, 25.45it/s]"
          ],
          "name": "stderr"
        },
        {
          "output_type": "stream",
          "text": [
            "{'ner': 12.740919163453093}\n"
          ],
          "name": "stdout"
        },
        {
          "output_type": "stream",
          "text": [
            "100%|██████████| 38/38 [00:01<00:00, 19.57it/s]\n",
            "  5%|▌         | 2/38 [00:00<00:02, 16.87it/s]"
          ],
          "name": "stderr"
        },
        {
          "output_type": "stream",
          "text": [
            "{'ner': 27.909579571399604}\n"
          ],
          "name": "stdout"
        },
        {
          "output_type": "stream",
          "text": [
            "100%|██████████| 38/38 [00:01<00:00, 19.77it/s]\n",
            "  5%|▌         | 2/38 [00:00<00:02, 15.82it/s]"
          ],
          "name": "stderr"
        },
        {
          "output_type": "stream",
          "text": [
            "{'ner': 19.792305100570495}\n"
          ],
          "name": "stdout"
        },
        {
          "output_type": "stream",
          "text": [
            "100%|██████████| 38/38 [00:01<00:00, 20.42it/s]\n",
            "  8%|▊         | 3/38 [00:00<00:01, 24.80it/s]"
          ],
          "name": "stderr"
        },
        {
          "output_type": "stream",
          "text": [
            "{'ner': 29.17075459635718}\n"
          ],
          "name": "stdout"
        },
        {
          "output_type": "stream",
          "text": [
            "100%|██████████| 38/38 [00:01<00:00, 19.78it/s]\n",
            " 11%|█         | 4/38 [00:00<00:01, 20.52it/s]"
          ],
          "name": "stderr"
        },
        {
          "output_type": "stream",
          "text": [
            "{'ner': 17.931046215999757}\n"
          ],
          "name": "stdout"
        },
        {
          "output_type": "stream",
          "text": [
            "100%|██████████| 38/38 [00:01<00:00, 20.61it/s]\n",
            "  5%|▌         | 2/38 [00:00<00:02, 17.49it/s]"
          ],
          "name": "stderr"
        },
        {
          "output_type": "stream",
          "text": [
            "{'ner': 2.9004490954949023}\n"
          ],
          "name": "stdout"
        },
        {
          "output_type": "stream",
          "text": [
            "100%|██████████| 38/38 [00:01<00:00, 19.90it/s]\n",
            "  8%|▊         | 3/38 [00:00<00:01, 26.05it/s]"
          ],
          "name": "stderr"
        },
        {
          "output_type": "stream",
          "text": [
            "{'ner': 12.904406638241058}\n"
          ],
          "name": "stdout"
        },
        {
          "output_type": "stream",
          "text": [
            "100%|██████████| 38/38 [00:01<00:00, 19.51it/s]\n",
            "  8%|▊         | 3/38 [00:00<00:01, 23.00it/s]"
          ],
          "name": "stderr"
        },
        {
          "output_type": "stream",
          "text": [
            "{'ner': 27.281480698884863}\n"
          ],
          "name": "stdout"
        },
        {
          "output_type": "stream",
          "text": [
            "100%|██████████| 38/38 [00:01<00:00, 19.60it/s]\n",
            "  5%|▌         | 2/38 [00:00<00:02, 16.55it/s]"
          ],
          "name": "stderr"
        },
        {
          "output_type": "stream",
          "text": [
            "{'ner': 48.38978175403719}\n"
          ],
          "name": "stdout"
        },
        {
          "output_type": "stream",
          "text": [
            "100%|██████████| 38/38 [00:01<00:00, 20.58it/s]\n",
            "  8%|▊         | 3/38 [00:00<00:01, 26.32it/s]"
          ],
          "name": "stderr"
        },
        {
          "output_type": "stream",
          "text": [
            "{'ner': 9.269350519650963}\n"
          ],
          "name": "stdout"
        },
        {
          "output_type": "stream",
          "text": [
            "100%|██████████| 38/38 [00:01<00:00, 20.23it/s]\n",
            "  8%|▊         | 3/38 [00:00<00:01, 20.13it/s]"
          ],
          "name": "stderr"
        },
        {
          "output_type": "stream",
          "text": [
            "{'ner': 5.143796315843341}\n"
          ],
          "name": "stdout"
        },
        {
          "output_type": "stream",
          "text": [
            "100%|██████████| 38/38 [00:01<00:00, 19.39it/s]\n",
            "  3%|▎         | 1/38 [00:00<00:04,  8.22it/s]"
          ],
          "name": "stderr"
        },
        {
          "output_type": "stream",
          "text": [
            "{'ner': 36.8396756834002}\n"
          ],
          "name": "stdout"
        },
        {
          "output_type": "stream",
          "text": [
            "100%|██████████| 38/38 [00:01<00:00, 21.47it/s]\n",
            " 11%|█         | 4/38 [00:00<00:00, 37.78it/s]"
          ],
          "name": "stderr"
        },
        {
          "output_type": "stream",
          "text": [
            "{'ner': 14.606192512151287}\n"
          ],
          "name": "stdout"
        },
        {
          "output_type": "stream",
          "text": [
            "100%|██████████| 38/38 [00:01<00:00, 20.12it/s]\n",
            "  8%|▊         | 3/38 [00:00<00:01, 26.24it/s]"
          ],
          "name": "stderr"
        },
        {
          "output_type": "stream",
          "text": [
            "{'ner': 5.933910481638131}\n"
          ],
          "name": "stdout"
        },
        {
          "output_type": "stream",
          "text": [
            "100%|██████████| 38/38 [00:01<00:00, 21.89it/s]\n",
            "  5%|▌         | 2/38 [00:00<00:02, 13.39it/s]"
          ],
          "name": "stderr"
        },
        {
          "output_type": "stream",
          "text": [
            "{'ner': 8.413589532197314}\n"
          ],
          "name": "stdout"
        },
        {
          "output_type": "stream",
          "text": [
            "100%|██████████| 38/38 [00:01<00:00, 19.29it/s]\n",
            "  8%|▊         | 3/38 [00:00<00:01, 25.01it/s]"
          ],
          "name": "stderr"
        },
        {
          "output_type": "stream",
          "text": [
            "{'ner': 11.457170308019265}\n"
          ],
          "name": "stdout"
        },
        {
          "output_type": "stream",
          "text": [
            "100%|██████████| 38/38 [00:01<00:00, 19.40it/s]\n",
            "  3%|▎         | 1/38 [00:00<00:04,  8.58it/s]"
          ],
          "name": "stderr"
        },
        {
          "output_type": "stream",
          "text": [
            "{'ner': 28.748640365760252}\n"
          ],
          "name": "stdout"
        },
        {
          "output_type": "stream",
          "text": [
            "100%|██████████| 38/38 [00:01<00:00, 19.48it/s]\n",
            "  8%|▊         | 3/38 [00:00<00:01, 23.94it/s]"
          ],
          "name": "stderr"
        },
        {
          "output_type": "stream",
          "text": [
            "{'ner': 19.77216702652965}\n"
          ],
          "name": "stdout"
        },
        {
          "output_type": "stream",
          "text": [
            "100%|██████████| 38/38 [00:01<00:00, 19.73it/s]\n",
            "  5%|▌         | 2/38 [00:00<00:02, 16.16it/s]"
          ],
          "name": "stderr"
        },
        {
          "output_type": "stream",
          "text": [
            "{'ner': 12.109978316765776}\n"
          ],
          "name": "stdout"
        },
        {
          "output_type": "stream",
          "text": [
            "100%|██████████| 38/38 [00:01<00:00, 19.64it/s]\n",
            "  8%|▊         | 3/38 [00:00<00:01, 24.87it/s]"
          ],
          "name": "stderr"
        },
        {
          "output_type": "stream",
          "text": [
            "{'ner': 13.278838118642868}\n"
          ],
          "name": "stdout"
        },
        {
          "output_type": "stream",
          "text": [
            "100%|██████████| 38/38 [00:01<00:00, 19.82it/s]\n",
            "  8%|▊         | 3/38 [00:00<00:01, 21.41it/s]"
          ],
          "name": "stderr"
        },
        {
          "output_type": "stream",
          "text": [
            "{'ner': 47.5536670829835}\n"
          ],
          "name": "stdout"
        },
        {
          "output_type": "stream",
          "text": [
            "100%|██████████| 38/38 [00:01<00:00, 20.13it/s]\n",
            "  5%|▌         | 2/38 [00:00<00:02, 14.65it/s]"
          ],
          "name": "stderr"
        },
        {
          "output_type": "stream",
          "text": [
            "{'ner': 3.979503825836129}\n"
          ],
          "name": "stdout"
        },
        {
          "output_type": "stream",
          "text": [
            "100%|██████████| 38/38 [00:01<00:00, 21.75it/s]\n",
            " 11%|█         | 4/38 [00:00<00:01, 32.37it/s]"
          ],
          "name": "stderr"
        },
        {
          "output_type": "stream",
          "text": [
            "{'ner': 34.70389344302952}\n"
          ],
          "name": "stdout"
        },
        {
          "output_type": "stream",
          "text": [
            "100%|██████████| 38/38 [00:01<00:00, 21.45it/s]\n",
            " 11%|█         | 4/38 [00:00<00:00, 37.00it/s]"
          ],
          "name": "stderr"
        },
        {
          "output_type": "stream",
          "text": [
            "{'ner': 21.822336812080874}\n"
          ],
          "name": "stdout"
        },
        {
          "output_type": "stream",
          "text": [
            "100%|██████████| 38/38 [00:01<00:00, 20.57it/s]\n",
            "  8%|▊         | 3/38 [00:00<00:01, 22.28it/s]"
          ],
          "name": "stderr"
        },
        {
          "output_type": "stream",
          "text": [
            "{'ner': 12.808131071094628}\n"
          ],
          "name": "stdout"
        },
        {
          "output_type": "stream",
          "text": [
            "100%|██████████| 38/38 [00:01<00:00, 20.02it/s]\n",
            "  8%|▊         | 3/38 [00:00<00:01, 20.30it/s]"
          ],
          "name": "stderr"
        },
        {
          "output_type": "stream",
          "text": [
            "{'ner': 4.982846923111274}\n"
          ],
          "name": "stdout"
        },
        {
          "output_type": "stream",
          "text": [
            "100%|██████████| 38/38 [00:02<00:00, 18.99it/s]\n",
            "  8%|▊         | 3/38 [00:00<00:01, 21.40it/s]"
          ],
          "name": "stderr"
        },
        {
          "output_type": "stream",
          "text": [
            "{'ner': 1.9447971079070578}\n"
          ],
          "name": "stdout"
        },
        {
          "output_type": "stream",
          "text": [
            "100%|██████████| 38/38 [00:01<00:00, 20.13it/s]\n",
            "  8%|▊         | 3/38 [00:00<00:02, 17.19it/s]"
          ],
          "name": "stderr"
        },
        {
          "output_type": "stream",
          "text": [
            "{'ner': 28.034124247968283}\n"
          ],
          "name": "stdout"
        },
        {
          "output_type": "stream",
          "text": [
            "100%|██████████| 38/38 [00:01<00:00, 20.37it/s]\n",
            "  8%|▊         | 3/38 [00:00<00:01, 23.47it/s]"
          ],
          "name": "stderr"
        },
        {
          "output_type": "stream",
          "text": [
            "{'ner': 21.584431126341567}\n"
          ],
          "name": "stdout"
        },
        {
          "output_type": "stream",
          "text": [
            "100%|██████████| 38/38 [00:01<00:00, 19.93it/s]\n",
            "  8%|▊         | 3/38 [00:00<00:01, 24.67it/s]"
          ],
          "name": "stderr"
        },
        {
          "output_type": "stream",
          "text": [
            "{'ner': 20.657290250249616}\n"
          ],
          "name": "stdout"
        },
        {
          "output_type": "stream",
          "text": [
            "100%|██████████| 38/38 [00:01<00:00, 22.72it/s]\n",
            "  8%|▊         | 3/38 [00:00<00:01, 21.00it/s]"
          ],
          "name": "stderr"
        },
        {
          "output_type": "stream",
          "text": [
            "{'ner': 21.004758229735184}\n"
          ],
          "name": "stdout"
        },
        {
          "output_type": "stream",
          "text": [
            "100%|██████████| 38/38 [00:01<00:00, 19.93it/s]\n",
            "  3%|▎         | 1/38 [00:00<00:04,  8.98it/s]"
          ],
          "name": "stderr"
        },
        {
          "output_type": "stream",
          "text": [
            "{'ner': 16.234418845208253}\n"
          ],
          "name": "stdout"
        },
        {
          "output_type": "stream",
          "text": [
            "100%|██████████| 38/38 [00:01<00:00, 20.55it/s]\n",
            "  3%|▎         | 1/38 [00:00<00:04,  9.09it/s]"
          ],
          "name": "stderr"
        },
        {
          "output_type": "stream",
          "text": [
            "{'ner': 15.127076881684966}\n"
          ],
          "name": "stdout"
        },
        {
          "output_type": "stream",
          "text": [
            "100%|██████████| 38/38 [00:01<00:00, 20.20it/s]\n",
            "  8%|▊         | 3/38 [00:00<00:01, 29.85it/s]"
          ],
          "name": "stderr"
        },
        {
          "output_type": "stream",
          "text": [
            "{'ner': 6.046161692550818}\n"
          ],
          "name": "stdout"
        },
        {
          "output_type": "stream",
          "text": [
            "100%|██████████| 38/38 [00:01<00:00, 21.80it/s]\n",
            "  5%|▌         | 2/38 [00:00<00:02, 14.93it/s]"
          ],
          "name": "stderr"
        },
        {
          "output_type": "stream",
          "text": [
            "{'ner': 11.673395461358897}\n"
          ],
          "name": "stdout"
        },
        {
          "output_type": "stream",
          "text": [
            "100%|██████████| 38/38 [00:01<00:00, 21.39it/s]\n",
            "  5%|▌         | 2/38 [00:00<00:01, 18.95it/s]"
          ],
          "name": "stderr"
        },
        {
          "output_type": "stream",
          "text": [
            "{'ner': 16.46238866148151}\n"
          ],
          "name": "stdout"
        },
        {
          "output_type": "stream",
          "text": [
            "100%|██████████| 38/38 [00:01<00:00, 19.73it/s]\n",
            "  8%|▊         | 3/38 [00:00<00:01, 26.65it/s]"
          ],
          "name": "stderr"
        },
        {
          "output_type": "stream",
          "text": [
            "{'ner': 30.136718309325808}\n"
          ],
          "name": "stdout"
        },
        {
          "output_type": "stream",
          "text": [
            "100%|██████████| 38/38 [00:01<00:00, 20.18it/s]\n",
            "  3%|▎         | 1/38 [00:00<00:04,  8.01it/s]"
          ],
          "name": "stderr"
        },
        {
          "output_type": "stream",
          "text": [
            "{'ner': 11.56348028892495}\n"
          ],
          "name": "stdout"
        },
        {
          "output_type": "stream",
          "text": [
            "100%|██████████| 38/38 [00:01<00:00, 19.63it/s]\n",
            "  8%|▊         | 3/38 [00:00<00:01, 24.51it/s]"
          ],
          "name": "stderr"
        },
        {
          "output_type": "stream",
          "text": [
            "{'ner': 24.05574034503863}\n"
          ],
          "name": "stdout"
        },
        {
          "output_type": "stream",
          "text": [
            "100%|██████████| 38/38 [00:01<00:00, 19.43it/s]\n",
            "  8%|▊         | 3/38 [00:00<00:01, 22.28it/s]"
          ],
          "name": "stderr"
        },
        {
          "output_type": "stream",
          "text": [
            "{'ner': 10.870072614558639}\n"
          ],
          "name": "stdout"
        },
        {
          "output_type": "stream",
          "text": [
            "100%|██████████| 38/38 [00:01<00:00, 19.93it/s]\n",
            "  5%|▌         | 2/38 [00:00<00:01, 19.77it/s]"
          ],
          "name": "stderr"
        },
        {
          "output_type": "stream",
          "text": [
            "{'ner': 7.904374493075837}\n"
          ],
          "name": "stdout"
        },
        {
          "output_type": "stream",
          "text": [
            "100%|██████████| 38/38 [00:01<00:00, 19.78it/s]\n",
            "  8%|▊         | 3/38 [00:00<00:01, 25.92it/s]"
          ],
          "name": "stderr"
        },
        {
          "output_type": "stream",
          "text": [
            "{'ner': 30.267990692252205}\n"
          ],
          "name": "stdout"
        },
        {
          "output_type": "stream",
          "text": [
            "100%|██████████| 38/38 [00:01<00:00, 20.20it/s]\n",
            "  5%|▌         | 2/38 [00:00<00:01, 19.95it/s]"
          ],
          "name": "stderr"
        },
        {
          "output_type": "stream",
          "text": [
            "{'ner': 9.556555990806396}\n"
          ],
          "name": "stdout"
        },
        {
          "output_type": "stream",
          "text": [
            "100%|██████████| 38/38 [00:01<00:00, 19.40it/s]\n",
            "  8%|▊         | 3/38 [00:00<00:01, 24.81it/s]"
          ],
          "name": "stderr"
        },
        {
          "output_type": "stream",
          "text": [
            "{'ner': 9.651899433169335}\n"
          ],
          "name": "stdout"
        },
        {
          "output_type": "stream",
          "text": [
            "100%|██████████| 38/38 [00:01<00:00, 19.72it/s]\n",
            "  8%|▊         | 3/38 [00:00<00:01, 20.62it/s]"
          ],
          "name": "stderr"
        },
        {
          "output_type": "stream",
          "text": [
            "{'ner': 12.01442518118207}\n"
          ],
          "name": "stdout"
        },
        {
          "output_type": "stream",
          "text": [
            "100%|██████████| 38/38 [00:01<00:00, 19.46it/s]\n",
            "  8%|▊         | 3/38 [00:00<00:01, 20.82it/s]"
          ],
          "name": "stderr"
        },
        {
          "output_type": "stream",
          "text": [
            "{'ner': 45.791781730059796}\n"
          ],
          "name": "stdout"
        },
        {
          "output_type": "stream",
          "text": [
            "100%|██████████| 38/38 [00:01<00:00, 21.89it/s]\n",
            "  5%|▌         | 2/38 [00:00<00:01, 19.56it/s]"
          ],
          "name": "stderr"
        },
        {
          "output_type": "stream",
          "text": [
            "{'ner': 39.882320515259416}\n"
          ],
          "name": "stdout"
        },
        {
          "output_type": "stream",
          "text": [
            "100%|██████████| 38/38 [00:01<00:00, 19.24it/s]\n",
            "  5%|▌         | 2/38 [00:00<00:02, 16.80it/s]"
          ],
          "name": "stderr"
        },
        {
          "output_type": "stream",
          "text": [
            "{'ner': 6.70872245763773}\n"
          ],
          "name": "stdout"
        },
        {
          "output_type": "stream",
          "text": [
            "100%|██████████| 38/38 [00:01<00:00, 19.82it/s]\n",
            "  5%|▌         | 2/38 [00:00<00:02, 17.31it/s]"
          ],
          "name": "stderr"
        },
        {
          "output_type": "stream",
          "text": [
            "{'ner': 3.978327342799505}\n"
          ],
          "name": "stdout"
        },
        {
          "output_type": "stream",
          "text": [
            "100%|██████████| 38/38 [00:01<00:00, 20.71it/s]\n",
            "  3%|▎         | 1/38 [00:00<00:04,  8.21it/s]"
          ],
          "name": "stderr"
        },
        {
          "output_type": "stream",
          "text": [
            "{'ner': 22.562588280958124}\n"
          ],
          "name": "stdout"
        },
        {
          "output_type": "stream",
          "text": [
            "100%|██████████| 38/38 [00:01<00:00, 19.21it/s]\n",
            "  5%|▌         | 2/38 [00:00<00:02, 13.88it/s]"
          ],
          "name": "stderr"
        },
        {
          "output_type": "stream",
          "text": [
            "{'ner': 35.27406178902506}\n"
          ],
          "name": "stdout"
        },
        {
          "output_type": "stream",
          "text": [
            "100%|██████████| 38/38 [00:01<00:00, 20.00it/s]\n",
            "  5%|▌         | 2/38 [00:00<00:02, 13.96it/s]"
          ],
          "name": "stderr"
        },
        {
          "output_type": "stream",
          "text": [
            "{'ner': 3.9541436941148325}\n"
          ],
          "name": "stdout"
        },
        {
          "output_type": "stream",
          "text": [
            "100%|██████████| 38/38 [00:01<00:00, 20.54it/s]\n",
            "  8%|▊         | 3/38 [00:00<00:01, 25.36it/s]"
          ],
          "name": "stderr"
        },
        {
          "output_type": "stream",
          "text": [
            "{'ner': 6.0886243932061594}\n"
          ],
          "name": "stdout"
        },
        {
          "output_type": "stream",
          "text": [
            "100%|██████████| 38/38 [00:01<00:00, 20.68it/s]\n",
            "  5%|▌         | 2/38 [00:00<00:03, 11.86it/s]"
          ],
          "name": "stderr"
        },
        {
          "output_type": "stream",
          "text": [
            "{'ner': 24.05796411517998}\n"
          ],
          "name": "stdout"
        },
        {
          "output_type": "stream",
          "text": [
            "100%|██████████| 38/38 [00:01<00:00, 19.79it/s]\n",
            "  8%|▊         | 3/38 [00:00<00:01, 24.28it/s]"
          ],
          "name": "stderr"
        },
        {
          "output_type": "stream",
          "text": [
            "{'ner': 37.91063293859976}\n"
          ],
          "name": "stdout"
        },
        {
          "output_type": "stream",
          "text": [
            "100%|██████████| 38/38 [00:01<00:00, 20.30it/s]\n",
            "  5%|▌         | 2/38 [00:00<00:02, 14.04it/s]"
          ],
          "name": "stderr"
        },
        {
          "output_type": "stream",
          "text": [
            "{'ner': 28.56848730963166}\n"
          ],
          "name": "stdout"
        },
        {
          "output_type": "stream",
          "text": [
            "100%|██████████| 38/38 [00:01<00:00, 19.06it/s]\n",
            "  5%|▌         | 2/38 [00:00<00:02, 16.23it/s]"
          ],
          "name": "stderr"
        },
        {
          "output_type": "stream",
          "text": [
            "{'ner': 25.95070716412983}\n"
          ],
          "name": "stdout"
        },
        {
          "output_type": "stream",
          "text": [
            "100%|██████████| 38/38 [00:01<00:00, 19.22it/s]\n",
            "  8%|▊         | 3/38 [00:00<00:01, 23.62it/s]"
          ],
          "name": "stderr"
        },
        {
          "output_type": "stream",
          "text": [
            "{'ner': 11.686002019230244}\n"
          ],
          "name": "stdout"
        },
        {
          "output_type": "stream",
          "text": [
            "100%|██████████| 38/38 [00:01<00:00, 21.67it/s]\n",
            "  8%|▊         | 3/38 [00:00<00:01, 20.53it/s]"
          ],
          "name": "stderr"
        },
        {
          "output_type": "stream",
          "text": [
            "{'ner': 9.188400004797828}\n"
          ],
          "name": "stdout"
        },
        {
          "output_type": "stream",
          "text": [
            "100%|██████████| 38/38 [00:01<00:00, 20.04it/s]\n",
            "  3%|▎         | 1/38 [00:00<00:03,  9.41it/s]"
          ],
          "name": "stderr"
        },
        {
          "output_type": "stream",
          "text": [
            "{'ner': 2.9200168294683766}\n"
          ],
          "name": "stdout"
        },
        {
          "output_type": "stream",
          "text": [
            "100%|██████████| 38/38 [00:01<00:00, 19.29it/s]\n",
            "  5%|▌         | 2/38 [00:00<00:01, 18.53it/s]"
          ],
          "name": "stderr"
        },
        {
          "output_type": "stream",
          "text": [
            "{'ner': 14.767788619601484}\n"
          ],
          "name": "stdout"
        },
        {
          "output_type": "stream",
          "text": [
            "100%|██████████| 38/38 [00:01<00:00, 19.56it/s]\n",
            "  8%|▊         | 3/38 [00:00<00:01, 21.60it/s]"
          ],
          "name": "stderr"
        },
        {
          "output_type": "stream",
          "text": [
            "{'ner': 6.507283090886567}\n"
          ],
          "name": "stdout"
        },
        {
          "output_type": "stream",
          "text": [
            "100%|██████████| 38/38 [00:01<00:00, 20.29it/s]\n",
            "  5%|▌         | 2/38 [00:00<00:01, 18.45it/s]"
          ],
          "name": "stderr"
        },
        {
          "output_type": "stream",
          "text": [
            "{'ner': 10.497023581825038}\n"
          ],
          "name": "stdout"
        },
        {
          "output_type": "stream",
          "text": [
            "100%|██████████| 38/38 [00:01<00:00, 19.73it/s]\n",
            "  5%|▌         | 2/38 [00:00<00:01, 18.83it/s]"
          ],
          "name": "stderr"
        },
        {
          "output_type": "stream",
          "text": [
            "{'ner': 7.791046465389169}\n"
          ],
          "name": "stdout"
        },
        {
          "output_type": "stream",
          "text": [
            "100%|██████████| 38/38 [00:01<00:00, 19.82it/s]\n",
            "  3%|▎         | 1/38 [00:00<00:03,  9.60it/s]"
          ],
          "name": "stderr"
        },
        {
          "output_type": "stream",
          "text": [
            "{'ner': 3.5745576332736437}\n"
          ],
          "name": "stdout"
        },
        {
          "output_type": "stream",
          "text": [
            "100%|██████████| 38/38 [00:01<00:00, 20.04it/s]\n",
            "  8%|▊         | 3/38 [00:00<00:01, 24.35it/s]"
          ],
          "name": "stderr"
        },
        {
          "output_type": "stream",
          "text": [
            "{'ner': 1.5438806421251612}\n"
          ],
          "name": "stdout"
        },
        {
          "output_type": "stream",
          "text": [
            "100%|██████████| 38/38 [00:01<00:00, 20.05it/s]\n",
            "  5%|▌         | 2/38 [00:00<00:02, 17.39it/s]"
          ],
          "name": "stderr"
        },
        {
          "output_type": "stream",
          "text": [
            "{'ner': 8.710381262830714}\n"
          ],
          "name": "stdout"
        },
        {
          "output_type": "stream",
          "text": [
            "100%|██████████| 38/38 [00:01<00:00, 20.55it/s]\n",
            "  8%|▊         | 3/38 [00:00<00:01, 22.82it/s]"
          ],
          "name": "stderr"
        },
        {
          "output_type": "stream",
          "text": [
            "{'ner': 14.176980948625332}\n"
          ],
          "name": "stdout"
        },
        {
          "output_type": "stream",
          "text": [
            "100%|██████████| 38/38 [00:01<00:00, 20.22it/s]\n",
            "  8%|▊         | 3/38 [00:00<00:01, 23.21it/s]"
          ],
          "name": "stderr"
        },
        {
          "output_type": "stream",
          "text": [
            "{'ner': 15.427888179372927}\n"
          ],
          "name": "stdout"
        },
        {
          "output_type": "stream",
          "text": [
            "100%|██████████| 38/38 [00:01<00:00, 20.63it/s]\n",
            "  8%|▊         | 3/38 [00:00<00:01, 20.94it/s]"
          ],
          "name": "stderr"
        },
        {
          "output_type": "stream",
          "text": [
            "{'ner': 7.510145040865927}\n"
          ],
          "name": "stdout"
        },
        {
          "output_type": "stream",
          "text": [
            "100%|██████████| 38/38 [00:01<00:00, 19.46it/s]\n",
            "  5%|▌         | 2/38 [00:00<00:02, 12.89it/s]"
          ],
          "name": "stderr"
        },
        {
          "output_type": "stream",
          "text": [
            "{'ner': 7.866231509609627}\n"
          ],
          "name": "stdout"
        },
        {
          "output_type": "stream",
          "text": [
            "100%|██████████| 38/38 [00:01<00:00, 19.13it/s]\n",
            "  8%|▊         | 3/38 [00:00<00:01, 23.29it/s]"
          ],
          "name": "stderr"
        },
        {
          "output_type": "stream",
          "text": [
            "{'ner': 5.583084819851184}\n"
          ],
          "name": "stdout"
        },
        {
          "output_type": "stream",
          "text": [
            "100%|██████████| 38/38 [00:01<00:00, 20.31it/s]\n",
            "  3%|▎         | 1/38 [00:00<00:03,  9.89it/s]"
          ],
          "name": "stderr"
        },
        {
          "output_type": "stream",
          "text": [
            "{'ner': 5.974437915353199}\n"
          ],
          "name": "stdout"
        },
        {
          "output_type": "stream",
          "text": [
            "100%|██████████| 38/38 [00:01<00:00, 20.76it/s]\n",
            "  5%|▌         | 2/38 [00:00<00:02, 15.00it/s]"
          ],
          "name": "stderr"
        },
        {
          "output_type": "stream",
          "text": [
            "{'ner': 4.259144966189588}\n"
          ],
          "name": "stdout"
        },
        {
          "output_type": "stream",
          "text": [
            "100%|██████████| 38/38 [00:01<00:00, 19.32it/s]\n",
            "  8%|▊         | 3/38 [00:00<00:01, 26.40it/s]"
          ],
          "name": "stderr"
        },
        {
          "output_type": "stream",
          "text": [
            "{'ner': 24.111156332130147}\n"
          ],
          "name": "stdout"
        },
        {
          "output_type": "stream",
          "text": [
            "100%|██████████| 38/38 [00:01<00:00, 21.53it/s]\n",
            "  8%|▊         | 3/38 [00:00<00:01, 23.01it/s]"
          ],
          "name": "stderr"
        },
        {
          "output_type": "stream",
          "text": [
            "{'ner': 4.42048751676584}\n"
          ],
          "name": "stdout"
        },
        {
          "output_type": "stream",
          "text": [
            "100%|██████████| 38/38 [00:01<00:00, 20.11it/s]\n",
            "  8%|▊         | 3/38 [00:00<00:01, 21.93it/s]"
          ],
          "name": "stderr"
        },
        {
          "output_type": "stream",
          "text": [
            "{'ner': 7.8231500068655775}\n"
          ],
          "name": "stdout"
        },
        {
          "output_type": "stream",
          "text": [
            "100%|██████████| 38/38 [00:01<00:00, 19.72it/s]\n",
            "  5%|▌         | 2/38 [00:00<00:01, 19.15it/s]"
          ],
          "name": "stderr"
        },
        {
          "output_type": "stream",
          "text": [
            "{'ner': 4.337571230212282}\n"
          ],
          "name": "stdout"
        },
        {
          "output_type": "stream",
          "text": [
            "100%|██████████| 38/38 [00:01<00:00, 21.92it/s]\n",
            "  5%|▌         | 2/38 [00:00<00:01, 19.39it/s]"
          ],
          "name": "stderr"
        },
        {
          "output_type": "stream",
          "text": [
            "{'ner': 15.65059030385156}\n"
          ],
          "name": "stdout"
        },
        {
          "output_type": "stream",
          "text": [
            "100%|██████████| 38/38 [00:01<00:00, 19.43it/s]\n",
            "  5%|▌         | 2/38 [00:00<00:02, 15.33it/s]"
          ],
          "name": "stderr"
        },
        {
          "output_type": "stream",
          "text": [
            "{'ner': 3.8631051111709738}\n"
          ],
          "name": "stdout"
        },
        {
          "output_type": "stream",
          "text": [
            "100%|██████████| 38/38 [00:01<00:00, 20.15it/s]\n",
            "  8%|▊         | 3/38 [00:00<00:01, 24.25it/s]"
          ],
          "name": "stderr"
        },
        {
          "output_type": "stream",
          "text": [
            "{'ner': 20.286830672914917}\n"
          ],
          "name": "stdout"
        },
        {
          "output_type": "stream",
          "text": [
            "100%|██████████| 38/38 [00:01<00:00, 19.82it/s]\n",
            "  5%|▌         | 2/38 [00:00<00:01, 19.84it/s]"
          ],
          "name": "stderr"
        },
        {
          "output_type": "stream",
          "text": [
            "{'ner': 9.666082934762654}\n"
          ],
          "name": "stdout"
        },
        {
          "output_type": "stream",
          "text": [
            "100%|██████████| 38/38 [00:01<00:00, 19.72it/s]\n",
            "  8%|▊         | 3/38 [00:00<00:01, 26.81it/s]"
          ],
          "name": "stderr"
        },
        {
          "output_type": "stream",
          "text": [
            "{'ner': 44.763982086612316}\n"
          ],
          "name": "stdout"
        },
        {
          "output_type": "stream",
          "text": [
            "100%|██████████| 38/38 [00:01<00:00, 19.44it/s]\n",
            "  5%|▌         | 2/38 [00:00<00:02, 15.84it/s]"
          ],
          "name": "stderr"
        },
        {
          "output_type": "stream",
          "text": [
            "{'ner': 63.64750982228059}\n"
          ],
          "name": "stdout"
        },
        {
          "output_type": "stream",
          "text": [
            "100%|██████████| 38/38 [00:01<00:00, 20.35it/s]\n",
            "  5%|▌         | 2/38 [00:00<00:01, 18.59it/s]"
          ],
          "name": "stderr"
        },
        {
          "output_type": "stream",
          "text": [
            "{'ner': 17.68837009029384}\n"
          ],
          "name": "stdout"
        },
        {
          "output_type": "stream",
          "text": [
            "100%|██████████| 38/38 [00:02<00:00, 18.70it/s]\n",
            "  8%|▊         | 3/38 [00:00<00:01, 24.13it/s]"
          ],
          "name": "stderr"
        },
        {
          "output_type": "stream",
          "text": [
            "{'ner': 40.445303051491805}\n"
          ],
          "name": "stdout"
        },
        {
          "output_type": "stream",
          "text": [
            "100%|██████████| 38/38 [00:01<00:00, 19.03it/s]\n",
            "  8%|▊         | 3/38 [00:00<00:01, 22.56it/s]"
          ],
          "name": "stderr"
        },
        {
          "output_type": "stream",
          "text": [
            "{'ner': 10.820833917615406}\n"
          ],
          "name": "stdout"
        },
        {
          "output_type": "stream",
          "text": [
            "100%|██████████| 38/38 [00:01<00:00, 19.89it/s]\n",
            "  5%|▌         | 2/38 [00:00<00:01, 18.39it/s]"
          ],
          "name": "stderr"
        },
        {
          "output_type": "stream",
          "text": [
            "{'ner': 52.789961855004684}\n"
          ],
          "name": "stdout"
        },
        {
          "output_type": "stream",
          "text": [
            "100%|██████████| 38/38 [00:01<00:00, 19.25it/s]\n",
            "  5%|▌         | 2/38 [00:00<00:02, 15.43it/s]"
          ],
          "name": "stderr"
        },
        {
          "output_type": "stream",
          "text": [
            "{'ner': 8.73113802854938}\n"
          ],
          "name": "stdout"
        },
        {
          "output_type": "stream",
          "text": [
            "100%|██████████| 38/38 [00:01<00:00, 19.74it/s]\n",
            "  5%|▌         | 2/38 [00:00<00:01, 19.04it/s]"
          ],
          "name": "stderr"
        },
        {
          "output_type": "stream",
          "text": [
            "{'ner': 20.450315538153376}\n"
          ],
          "name": "stdout"
        },
        {
          "output_type": "stream",
          "text": [
            "100%|██████████| 38/38 [00:01<00:00, 19.75it/s]\n",
            "  8%|▊         | 3/38 [00:00<00:01, 22.45it/s]"
          ],
          "name": "stderr"
        },
        {
          "output_type": "stream",
          "text": [
            "{'ner': 19.58930128952966}\n"
          ],
          "name": "stdout"
        },
        {
          "output_type": "stream",
          "text": [
            "100%|██████████| 38/38 [00:01<00:00, 19.65it/s]\n",
            "  5%|▌         | 2/38 [00:00<00:01, 18.83it/s]"
          ],
          "name": "stderr"
        },
        {
          "output_type": "stream",
          "text": [
            "{'ner': 2.683093397137977}\n"
          ],
          "name": "stdout"
        },
        {
          "output_type": "stream",
          "text": [
            "100%|██████████| 38/38 [00:01<00:00, 19.68it/s]\n",
            "  8%|▊         | 3/38 [00:00<00:01, 26.02it/s]"
          ],
          "name": "stderr"
        },
        {
          "output_type": "stream",
          "text": [
            "{'ner': 31.77602591643466}\n"
          ],
          "name": "stdout"
        },
        {
          "output_type": "stream",
          "text": [
            "100%|██████████| 38/38 [00:01<00:00, 20.58it/s]\n",
            "  8%|▊         | 3/38 [00:00<00:01, 21.61it/s]"
          ],
          "name": "stderr"
        },
        {
          "output_type": "stream",
          "text": [
            "{'ner': 7.724766279030643}\n"
          ],
          "name": "stdout"
        },
        {
          "output_type": "stream",
          "text": [
            "100%|██████████| 38/38 [00:01<00:00, 19.71it/s]\n",
            "  5%|▌         | 2/38 [00:00<00:02, 14.11it/s]"
          ],
          "name": "stderr"
        },
        {
          "output_type": "stream",
          "text": [
            "{'ner': 16.228177582353098}\n"
          ],
          "name": "stdout"
        },
        {
          "output_type": "stream",
          "text": [
            "100%|██████████| 38/38 [00:01<00:00, 19.58it/s]\n",
            "  5%|▌         | 2/38 [00:00<00:02, 16.33it/s]"
          ],
          "name": "stderr"
        },
        {
          "output_type": "stream",
          "text": [
            "{'ner': 11.922418103058902}\n"
          ],
          "name": "stdout"
        },
        {
          "output_type": "stream",
          "text": [
            "100%|██████████| 38/38 [00:01<00:00, 19.96it/s]\n",
            "  8%|▊         | 3/38 [00:00<00:01, 25.20it/s]"
          ],
          "name": "stderr"
        },
        {
          "output_type": "stream",
          "text": [
            "{'ner': 21.01179602561592}\n"
          ],
          "name": "stdout"
        },
        {
          "output_type": "stream",
          "text": [
            "100%|██████████| 38/38 [00:01<00:00, 20.14it/s]\n",
            "  3%|▎         | 1/38 [00:00<00:04,  9.05it/s]"
          ],
          "name": "stderr"
        },
        {
          "output_type": "stream",
          "text": [
            "{'ner': 5.544093857622015}\n"
          ],
          "name": "stdout"
        },
        {
          "output_type": "stream",
          "text": [
            "100%|██████████| 38/38 [00:01<00:00, 19.64it/s]\n",
            "  3%|▎         | 1/38 [00:00<00:04,  8.80it/s]"
          ],
          "name": "stderr"
        },
        {
          "output_type": "stream",
          "text": [
            "{'ner': 26.90775260437353}\n"
          ],
          "name": "stdout"
        },
        {
          "output_type": "stream",
          "text": [
            "100%|██████████| 38/38 [00:02<00:00, 18.97it/s]\n",
            "  8%|▊         | 3/38 [00:00<00:01, 22.17it/s]"
          ],
          "name": "stderr"
        },
        {
          "output_type": "stream",
          "text": [
            "{'ner': 7.4343740016205375}\n"
          ],
          "name": "stdout"
        },
        {
          "output_type": "stream",
          "text": [
            "100%|██████████| 38/38 [00:01<00:00, 19.21it/s]\n",
            "  5%|▌         | 2/38 [00:00<00:02, 15.17it/s]"
          ],
          "name": "stderr"
        },
        {
          "output_type": "stream",
          "text": [
            "{'ner': 2.2405004116351166}\n"
          ],
          "name": "stdout"
        },
        {
          "output_type": "stream",
          "text": [
            "100%|██████████| 38/38 [00:01<00:00, 19.33it/s]\n",
            "  5%|▌         | 2/38 [00:00<00:02, 17.74it/s]"
          ],
          "name": "stderr"
        },
        {
          "output_type": "stream",
          "text": [
            "{'ner': 7.50014566463916}\n"
          ],
          "name": "stdout"
        },
        {
          "output_type": "stream",
          "text": [
            "100%|██████████| 38/38 [00:01<00:00, 20.63it/s]\n",
            "  5%|▌         | 2/38 [00:00<00:02, 17.33it/s]"
          ],
          "name": "stderr"
        },
        {
          "output_type": "stream",
          "text": [
            "{'ner': 4.732653648453975}\n"
          ],
          "name": "stdout"
        },
        {
          "output_type": "stream",
          "text": [
            "100%|██████████| 38/38 [00:01<00:00, 20.79it/s]\n",
            "  8%|▊         | 3/38 [00:00<00:01, 24.37it/s]"
          ],
          "name": "stderr"
        },
        {
          "output_type": "stream",
          "text": [
            "{'ner': 5.760093899663983}\n"
          ],
          "name": "stdout"
        },
        {
          "output_type": "stream",
          "text": [
            "100%|██████████| 38/38 [00:01<00:00, 19.55it/s]\n",
            "  8%|▊         | 3/38 [00:00<00:01, 21.51it/s]"
          ],
          "name": "stderr"
        },
        {
          "output_type": "stream",
          "text": [
            "{'ner': 3.4339627473455065}\n"
          ],
          "name": "stdout"
        },
        {
          "output_type": "stream",
          "text": [
            "100%|██████████| 38/38 [00:01<00:00, 19.77it/s]\n",
            "  5%|▌         | 2/38 [00:00<00:01, 18.62it/s]"
          ],
          "name": "stderr"
        },
        {
          "output_type": "stream",
          "text": [
            "{'ner': 8.410778659890767}\n"
          ],
          "name": "stdout"
        },
        {
          "output_type": "stream",
          "text": [
            "100%|██████████| 38/38 [00:01<00:00, 19.82it/s]\n",
            "  5%|▌         | 2/38 [00:00<00:02, 17.24it/s]"
          ],
          "name": "stderr"
        },
        {
          "output_type": "stream",
          "text": [
            "{'ner': 15.1485468917851}\n"
          ],
          "name": "stdout"
        },
        {
          "output_type": "stream",
          "text": [
            "100%|██████████| 38/38 [00:01<00:00, 20.18it/s]\n",
            "  8%|▊         | 3/38 [00:00<00:01, 19.64it/s]"
          ],
          "name": "stderr"
        },
        {
          "output_type": "stream",
          "text": [
            "{'ner': 18.432892550434605}\n"
          ],
          "name": "stdout"
        },
        {
          "output_type": "stream",
          "text": [
            "100%|██████████| 38/38 [00:01<00:00, 19.09it/s]\n",
            "  5%|▌         | 2/38 [00:00<00:01, 19.93it/s]"
          ],
          "name": "stderr"
        },
        {
          "output_type": "stream",
          "text": [
            "{'ner': 5.731968359759157}\n"
          ],
          "name": "stdout"
        },
        {
          "output_type": "stream",
          "text": [
            "100%|██████████| 38/38 [00:01<00:00, 20.32it/s]\n",
            "  8%|▊         | 3/38 [00:00<00:01, 18.06it/s]"
          ],
          "name": "stderr"
        },
        {
          "output_type": "stream",
          "text": [
            "{'ner': 20.962185498872703}\n"
          ],
          "name": "stdout"
        },
        {
          "output_type": "stream",
          "text": [
            "100%|██████████| 38/38 [00:01<00:00, 19.16it/s]\n",
            "  5%|▌         | 2/38 [00:00<00:02, 15.95it/s]"
          ],
          "name": "stderr"
        },
        {
          "output_type": "stream",
          "text": [
            "{'ner': 11.054158475391176}\n"
          ],
          "name": "stdout"
        },
        {
          "output_type": "stream",
          "text": [
            "100%|██████████| 38/38 [00:01<00:00, 19.63it/s]\n",
            "  8%|▊         | 3/38 [00:00<00:01, 27.87it/s]"
          ],
          "name": "stderr"
        },
        {
          "output_type": "stream",
          "text": [
            "{'ner': 30.544810745191757}\n"
          ],
          "name": "stdout"
        },
        {
          "output_type": "stream",
          "text": [
            "100%|██████████| 38/38 [00:01<00:00, 19.09it/s]\n",
            "  8%|▊         | 3/38 [00:00<00:01, 24.28it/s]"
          ],
          "name": "stderr"
        },
        {
          "output_type": "stream",
          "text": [
            "{'ner': 29.57607493893794}\n"
          ],
          "name": "stdout"
        },
        {
          "output_type": "stream",
          "text": [
            "100%|██████████| 38/38 [00:01<00:00, 19.78it/s]\n",
            "  8%|▊         | 3/38 [00:00<00:01, 21.16it/s]"
          ],
          "name": "stderr"
        },
        {
          "output_type": "stream",
          "text": [
            "{'ner': 12.475251252739037}\n"
          ],
          "name": "stdout"
        },
        {
          "output_type": "stream",
          "text": [
            "100%|██████████| 38/38 [00:01<00:00, 20.94it/s]\n",
            "  8%|▊         | 3/38 [00:00<00:01, 23.06it/s]"
          ],
          "name": "stderr"
        },
        {
          "output_type": "stream",
          "text": [
            "{'ner': 23.660296092214292}\n"
          ],
          "name": "stdout"
        },
        {
          "output_type": "stream",
          "text": [
            "100%|██████████| 38/38 [00:01<00:00, 19.25it/s]\n",
            "  5%|▌         | 2/38 [00:00<00:02, 14.78it/s]"
          ],
          "name": "stderr"
        },
        {
          "output_type": "stream",
          "text": [
            "{'ner': 11.628797705831342}\n"
          ],
          "name": "stdout"
        },
        {
          "output_type": "stream",
          "text": [
            "100%|██████████| 38/38 [00:01<00:00, 19.27it/s]\n",
            "  8%|▊         | 3/38 [00:00<00:01, 22.42it/s]"
          ],
          "name": "stderr"
        },
        {
          "output_type": "stream",
          "text": [
            "{'ner': 5.944886195684729}\n"
          ],
          "name": "stdout"
        },
        {
          "output_type": "stream",
          "text": [
            "100%|██████████| 38/38 [00:01<00:00, 19.11it/s]\n",
            "  5%|▌         | 2/38 [00:00<00:02, 17.02it/s]"
          ],
          "name": "stderr"
        },
        {
          "output_type": "stream",
          "text": [
            "{'ner': 4.294484270401535}\n"
          ],
          "name": "stdout"
        },
        {
          "output_type": "stream",
          "text": [
            "100%|██████████| 38/38 [00:01<00:00, 19.82it/s]\n",
            " 11%|█         | 4/38 [00:00<00:01, 32.05it/s]"
          ],
          "name": "stderr"
        },
        {
          "output_type": "stream",
          "text": [
            "{'ner': 2.6675489605762603}\n"
          ],
          "name": "stdout"
        },
        {
          "output_type": "stream",
          "text": [
            "100%|██████████| 38/38 [00:01<00:00, 21.23it/s]"
          ],
          "name": "stderr"
        },
        {
          "output_type": "stream",
          "text": [
            "{'ner': 11.880593357779382}\n"
          ],
          "name": "stdout"
        },
        {
          "output_type": "stream",
          "text": [
            "\n"
          ],
          "name": "stderr"
        }
      ]
    },
    {
      "cell_type": "markdown",
      "metadata": {
        "id": "YBTBJDriEA_B"
      },
      "source": [
        "Let's save the model on local disk"
      ]
    },
    {
      "cell_type": "code",
      "metadata": {
        "colab": {
          "base_uri": "https://localhost:8080/"
        },
        "id": "IQFwHnOtEF5w",
        "outputId": "6bc058dc-e3ca-49f9-d365-5eddedad1b38"
      },
      "source": [
        "nlp.to_disk(output_dir)\n",
        "print(\"Saved model to\", output_dir)"
      ],
      "execution_count": null,
      "outputs": [
        {
          "output_type": "stream",
          "text": [
            "Saved model to /content/drive/My Drive/projects_assignment/aadhar_card_retrival\n"
          ],
          "name": "stdout"
        }
      ]
    },
    {
      "cell_type": "markdown",
      "metadata": {
        "id": "JMJT-XMpDbA4"
      },
      "source": [
        "#### Testing the trained model on our own custom dataset <br>\n",
        "<b>Note : </b> These all the text are ouput from tesserect which I'm passing as an argument to the show_entities() to detect the entities."
      ]
    },
    {
      "cell_type": "code",
      "metadata": {
        "id": "IBXAoOTQFse3"
      },
      "source": [
        "def show_entities(text):\n",
        "  print(text)\n",
        "  print('\\n')\n",
        "  doc = nlp(text)\n",
        "  for ent in doc.ents:\n",
        "    print(ent.text, ent.label_)"
      ],
      "execution_count": null,
      "outputs": []
    },
    {
      "cell_type": "code",
      "metadata": {
        "colab": {
          "base_uri": "https://localhost:8080/"
        },
        "id": "Q29_R9s3vF2R",
        "outputId": "16474afd-b1ba-4d7c-b59e-8112b806d628"
      },
      "source": [
        "show_entities(training_data[28][0])"
      ],
      "execution_count": null,
      "outputs": [
        {
          "output_type": "stream",
          "text": [
            "Devendra Singh ia fafa DOB : 01/01/1984 veo /MALE 7996 3003 9447 ao ware, TA gear mc\n",
            "\n",
            "\n",
            "Devendra Singh NAME\n",
            "7996 3003 9447 AADHAR_NUMBER\n"
          ],
          "name": "stdout"
        }
      ]
    },
    {
      "cell_type": "code",
      "metadata": {
        "colab": {
          "base_uri": "https://localhost:8080/"
        },
        "id": "8oyIu58epesZ",
        "outputId": "bf8d1d9d-64d2-4b85-9c63-ee8c8263dda9"
      },
      "source": [
        "show_entities(training_data[8][0])"
      ],
      "execution_count": null,
      "outputs": [
        {
          "output_type": "stream",
          "text": [
            "cation Au ly of India ~ Address : 3-106 A, HEJAMADI, UDUPI, Hejamadi, Hejmadi, Udupi, Karnataka , 574103 2.\n",
            "\n",
            "\n"
          ],
          "name": "stdout"
        }
      ]
    },
    {
      "cell_type": "code",
      "metadata": {
        "colab": {
          "base_uri": "https://localhost:8080/"
        },
        "id": "TiWKDJKVpevb",
        "outputId": "2e4b0a15-e178-4cf6-8076-995b81014ad2"
      },
      "source": [
        "show_entities(training_data[21][0])"
      ],
      "execution_count": null,
      "outputs": [
        {
          "output_type": "stream",
          "text": [
            "avfaeaz ite 44 HARVINDER SINGH SANDHU) far: aaare fate 4 Father: SATNAM SINGH SANDHU aH a / Year of Birth : 1966 [eT / Male\n",
            "\n",
            "\n",
            "eT / DOB\n"
          ],
          "name": "stdout"
        }
      ]
    },
    {
      "cell_type": "code",
      "metadata": {
        "colab": {
          "base_uri": "https://localhost:8080/"
        },
        "id": "69ZexIoWpey_",
        "outputId": "76e0fbf1-ef87-40ae-86a3-f11301818995"
      },
      "source": [
        "show_entities(training_data[32][0])"
      ],
      "execution_count": null,
      "outputs": [
        {
          "output_type": "stream",
          "text": [
            "aa / Name: Sid malhorta Harta / DOB : 28/05/2000 yea / Female\n",
            "\n",
            "\n",
            "Sid malhorta DOB\n",
            "28/05/2000 yea DOB\n"
          ],
          "name": "stdout"
        }
      ]
    },
    {
      "cell_type": "markdown",
      "metadata": {
        "id": "of4dRoNMJHn0"
      },
      "source": [
        "### Conclusion"
      ]
    },
    {
      "cell_type": "markdown",
      "metadata": {
        "id": "c2GOCYPVflT_"
      },
      "source": [
        "We could improve this model if trained on larger dataset"
      ]
    }
  ]
}